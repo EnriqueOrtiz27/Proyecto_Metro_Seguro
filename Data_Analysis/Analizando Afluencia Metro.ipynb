{
 "cells": [
  {
   "cell_type": "markdown",
   "metadata": {},
   "source": [
    "# Objetivo: Analizar la afluencia promedio de cada estación para poder darle aún más información al usuario. "
   ]
  },
  {
   "cell_type": "code",
   "execution_count": 1,
   "metadata": {},
   "outputs": [],
   "source": [
    "import pandas as pd\n",
    "import numpy as np\n",
    "import re"
   ]
  },
  {
   "cell_type": "code",
   "execution_count": 2,
   "metadata": {},
   "outputs": [
    {
     "data": {
      "text/html": [
       "<div>\n",
       "<style scoped>\n",
       "    .dataframe tbody tr th:only-of-type {\n",
       "        vertical-align: middle;\n",
       "    }\n",
       "\n",
       "    .dataframe tbody tr th {\n",
       "        vertical-align: top;\n",
       "    }\n",
       "\n",
       "    .dataframe thead th {\n",
       "        text-align: right;\n",
       "    }\n",
       "</style>\n",
       "<table border=\"1\" class=\"dataframe\">\n",
       "  <thead>\n",
       "    <tr style=\"text-align: right;\">\n",
       "      <th></th>\n",
       "      <th>Fecha</th>\n",
       "      <th>Dia</th>\n",
       "      <th>Mes</th>\n",
       "      <th>Año</th>\n",
       "      <th>Linea</th>\n",
       "      <th>Estacion</th>\n",
       "      <th>Afluencia</th>\n",
       "    </tr>\n",
       "  </thead>\n",
       "  <tbody>\n",
       "    <tr>\n",
       "      <th>0</th>\n",
       "      <td>2013-08-26</td>\n",
       "      <td>26</td>\n",
       "      <td>agosto</td>\n",
       "      <td>2013</td>\n",
       "      <td>Linea 4</td>\n",
       "      <td>Santa Anita</td>\n",
       "      <td>2449.0</td>\n",
       "    </tr>\n",
       "    <tr>\n",
       "      <th>1</th>\n",
       "      <td>2013-08-26</td>\n",
       "      <td>26</td>\n",
       "      <td>agosto</td>\n",
       "      <td>2013</td>\n",
       "      <td>Linea 4</td>\n",
       "      <td>Jamaica</td>\n",
       "      <td>7626.0</td>\n",
       "    </tr>\n",
       "    <tr>\n",
       "      <th>2</th>\n",
       "      <td>2013-08-26</td>\n",
       "      <td>26</td>\n",
       "      <td>agosto</td>\n",
       "      <td>2013</td>\n",
       "      <td>Linea 4</td>\n",
       "      <td>Fray Servando</td>\n",
       "      <td>7194.0</td>\n",
       "    </tr>\n",
       "    <tr>\n",
       "      <th>3</th>\n",
       "      <td>2013-08-26</td>\n",
       "      <td>26</td>\n",
       "      <td>agosto</td>\n",
       "      <td>2013</td>\n",
       "      <td>Linea 4</td>\n",
       "      <td>Candelaria</td>\n",
       "      <td>6441.0</td>\n",
       "    </tr>\n",
       "    <tr>\n",
       "      <th>4</th>\n",
       "      <td>2013-08-26</td>\n",
       "      <td>26</td>\n",
       "      <td>agosto</td>\n",
       "      <td>2013</td>\n",
       "      <td>Linea 4</td>\n",
       "      <td>Canal del Norte</td>\n",
       "      <td>9088.0</td>\n",
       "    </tr>\n",
       "  </tbody>\n",
       "</table>\n",
       "</div>"
      ],
      "text/plain": [
       "        Fecha  Dia     Mes   Año    Linea         Estacion  Afluencia\n",
       "0  2013-08-26   26  agosto  2013  Linea 4      Santa Anita     2449.0\n",
       "1  2013-08-26   26  agosto  2013  Linea 4          Jamaica     7626.0\n",
       "2  2013-08-26   26  agosto  2013  Linea 4    Fray Servando     7194.0\n",
       "3  2013-08-26   26  agosto  2013  Linea 4       Candelaria     6441.0\n",
       "4  2013-08-26   26  agosto  2013  Linea 4  Canal del Norte     9088.0"
      ]
     },
     "execution_count": 2,
     "metadata": {},
     "output_type": "execute_result"
    }
   ],
   "source": [
    "afluencia = pd.read_csv('afluencia-diaria-del-metro-cdmx.csv')\n",
    "afluencia.head()"
   ]
  },
  {
   "cell_type": "code",
   "execution_count": 3,
   "metadata": {},
   "outputs": [],
   "source": [
    "list_afluencia = list(afluencia.Estacion.unique())"
   ]
  },
  {
   "cell_type": "code",
   "execution_count": 4,
   "metadata": {},
   "outputs": [
    {
     "data": {
      "text/plain": [
       "['Santa Anita', 'Jamaica', 'Fray Servando', 'Candelaria', 'Canal del Norte']"
      ]
     },
     "execution_count": 4,
     "metadata": {},
     "output_type": "execute_result"
    }
   ],
   "source": [
    "list_afluencia[:5] #ver cómo se imprime la de \"Canal del Norte\""
   ]
  },
  {
   "cell_type": "code",
   "execution_count": 5,
   "metadata": {},
   "outputs": [],
   "source": [
    "#Los nombres son distintos para muchos estaciones. podemos verlo con la otra base de datos.\n",
    "estaciones = pd.read_csv('estaciones_con_colonias_CORRECTO.csv')\n",
    "list_total = list(estaciones.nombre_estacion.unique())"
   ]
  },
  {
   "cell_type": "code",
   "execution_count": 6,
   "metadata": {},
   "outputs": [
    {
     "data": {
      "text/plain": [
       "106"
      ]
     },
     "execution_count": 6,
     "metadata": {},
     "output_type": "execute_result"
    }
   ],
   "source": [
    "interseccion = [e for e in list_total if e in list_afluencia]\n",
    "len(interseccion)"
   ]
  },
  {
   "cell_type": "code",
   "execution_count": 7,
   "metadata": {},
   "outputs": [
    {
     "data": {
      "text/plain": [
       "['Talismán_1_2',\n",
       " 'Río de los Remedios_1',\n",
       " 'Bondojito_1',\n",
       " 'Tezozómoc',\n",
       " 'Canal del Norte_1']"
      ]
     },
     "execution_count": 7,
     "metadata": {},
     "output_type": "execute_result"
    }
   ],
   "source": [
    "not_there = [e for e in list_total if e not in list_afluencia]\n",
    "not_there[:5]\n",
    "#ver cómo se imprime la de 'Canal del Norte_1'"
   ]
  },
  {
   "cell_type": "markdown",
   "metadata": {},
   "source": [
    "## Hay un patrón. 106 de las 195 estaciones coinciden perfectamente en el nombre con la base de datos de la afluencia, pero para las 89 estaciones restantes seguramente necesito quitar los números y los guiones bajos. "
   ]
  },
  {
   "cell_type": "markdown",
   "metadata": {},
   "source": [
    "    De todas maneras, es un hecho que hay menos registros en la base de datos de la afluencia. El mecanismo es el siguiente: seguramente en la lista de afluencia cuentan cosas como 'pantitlan_1', 'pantitlan_1_2' y 'pantitlan_1_5' solo como 'pantitlan', por lo que hay menos estaciones en general. "
   ]
  },
  {
   "cell_type": "code",
   "execution_count": 8,
   "metadata": {},
   "outputs": [
    {
     "data": {
      "text/html": [
       "<div>\n",
       "<style scoped>\n",
       "    .dataframe tbody tr th:only-of-type {\n",
       "        vertical-align: middle;\n",
       "    }\n",
       "\n",
       "    .dataframe tbody tr th {\n",
       "        vertical-align: top;\n",
       "    }\n",
       "\n",
       "    .dataframe thead th {\n",
       "        text-align: right;\n",
       "    }\n",
       "</style>\n",
       "<table border=\"1\" class=\"dataframe\">\n",
       "  <thead>\n",
       "    <tr style=\"text-align: right;\">\n",
       "      <th></th>\n",
       "      <th>Estacion</th>\n",
       "      <th>Afluencia</th>\n",
       "    </tr>\n",
       "  </thead>\n",
       "  <tbody>\n",
       "    <tr>\n",
       "      <th>39</th>\n",
       "      <td>Cuatro Caminos</td>\n",
       "      <td>115794.732591</td>\n",
       "    </tr>\n",
       "    <tr>\n",
       "      <th>65</th>\n",
       "      <td>Indios Verdes</td>\n",
       "      <td>115176.054581</td>\n",
       "    </tr>\n",
       "    <tr>\n",
       "      <th>33</th>\n",
       "      <td>Constitución de 1917</td>\n",
       "      <td>87142.289891</td>\n",
       "    </tr>\n",
       "    <tr>\n",
       "      <th>139</th>\n",
       "      <td>Tasqueña</td>\n",
       "      <td>86318.474520</td>\n",
       "    </tr>\n",
       "    <tr>\n",
       "      <th>106</th>\n",
       "      <td>Pantitlán</td>\n",
       "      <td>76179.709830</td>\n",
       "    </tr>\n",
       "  </tbody>\n",
       "</table>\n",
       "</div>"
      ],
      "text/plain": [
       "                 Estacion      Afluencia\n",
       "39         Cuatro Caminos  115794.732591\n",
       "65          Indios Verdes  115176.054581\n",
       "33   Constitución de 1917   87142.289891\n",
       "139              Tasqueña   86318.474520\n",
       "106             Pantitlán   76179.709830"
      ]
     },
     "execution_count": 8,
     "metadata": {},
     "output_type": "execute_result"
    }
   ],
   "source": [
    "#Antes de solucionar eso, primero lo primero. Agrupemos la estaciones por promedio de afluencia.\n",
    "\n",
    "avg_afluencia = afluencia.groupby('Estacion', as_index=False).mean()\n",
    "avg_afluencia = avg_afluencia.drop(columns=['Dia', 'Año'])\n",
    "avg_afluencia = avg_afluencia.sort_values(by=['Afluencia'], ascending=False)\n",
    "avg_afluencia.head()\n",
    "\n",
    "#prestar atención al valor de Cuatro Caminos; después lo usaré como comprobación"
   ]
  },
  {
   "cell_type": "markdown",
   "metadata": {},
   "source": [
    "El primer paso para solucionar mi problema es crear una nueva columna en mi base de datos con las 195 estaciones en donde le quite a los nombres los guiones bajos y los números. "
   ]
  },
  {
   "cell_type": "code",
   "execution_count": 9,
   "metadata": {},
   "outputs": [],
   "source": [
    "def quitar_signos(x):\n",
    "    \"\"\"Esta función me ayudará a quitar los guiones bajos y los números de las estaciones. \"\"\"\n",
    "    x = str(x)\n",
    "    if \"_\" in x:\n",
    "        x = x.replace(\"_\", \"\")\n",
    "        x = re.sub(r'\\d', \"\", x)\n",
    "    return x"
   ]
  },
  {
   "cell_type": "code",
   "execution_count": 10,
   "metadata": {},
   "outputs": [
    {
     "data": {
      "text/plain": [
       "164"
      ]
     },
     "execution_count": 10,
     "metadata": {},
     "output_type": "execute_result"
    }
   ],
   "source": [
    "estaciones['Estacion'] = estaciones.nombre_estacion.apply(quitar_signos)\n",
    "len(estaciones.Estacion.unique())\n",
    "#no está mal, tengo 164 vs. 160 en la otra base. Vamos a unirlas. "
   ]
  },
  {
   "cell_type": "code",
   "execution_count": 11,
   "metadata": {},
   "outputs": [],
   "source": [
    "res = {}\n",
    "lst_final = list(estaciones.Estacion.unique())\n",
    "for e in lst_final:\n",
    "    if e in list_afluencia:\n",
    "        res[e] = avg_afluencia.Afluencia[avg_afluencia.Estacion==e].values[0]\n",
    "    elif e not in list_afluencia:\n",
    "        res[e] = 'No Disponible'\n"
   ]
  },
  {
   "cell_type": "code",
   "execution_count": 12,
   "metadata": {},
   "outputs": [
    {
     "data": {
      "text/plain": [
       "{'Zapotitlán': 6293.883319409635,\n",
       " 'Tecnológico': 28577.38485101643,\n",
       " 'Olímpica': 18907.3029796714,\n",
       " 'Múzquiz': 33639.77582846004,\n",
       " 'Ciudad Azteca': 60232.78724589251,\n",
       " 'Talismán': 6053.748816485659,\n",
       " 'Valle Gómez': 4466.53522695628,\n",
       " 'Plaza Aragón': 21277.271233639654,\n",
       " 'Nezahualcóyotl': 24313.73767752715,\n",
       " 'Impulsora': 26640.53439153439,\n",
       " 'La Paz': 33650.321915900866,\n",
       " 'Aculco': 9976.583124477862,\n",
       " 'Consulado': 4804.211222500696,\n",
       " 'Los Reyes': 18827.677527151212,\n",
       " 'Río de los Remedios': 21593.766360345307,\n",
       " 'Tlaltenco': 1400.7117794486217,\n",
       " 'Bondojito': 6645.302144249513,\n",
       " 'Tezozómoc': 'No Disponible',\n",
       " 'Obrera': 13757.268448900028,\n",
       " 'Canal del Norte': 8943.5104427736,\n",
       " 'Santa Anita': 5043.117655249234,\n",
       " 'Azcapotzalco': 8074.150375939849,\n",
       " 'Autobuses del Norte': 23681.581453634084,\n",
       " 'El Rosario': 27207.85923141186,\n",
       " 'Jamaica': 9789.89209133946,\n",
       " 'Juanacatlán': 12857.875800612643,\n",
       " 'Escuadrón 201': 23929.658312447787,\n",
       " 'Vallejo': 7008.799498746867,\n",
       " 'Misterios': 8515.341687552214,\n",
       " 'Politécnico': 34369.49067112225,\n",
       " 'Cuatro Caminos': 115794.73259052925,\n",
       " 'Iztapalapa': 10517.570593149541,\n",
       " 'Lindavista': 16747.626009468117,\n",
       " 'R. Flores Magón': 'No Disponible',\n",
       " 'Doctores': 12124.936229462544,\n",
       " 'Terminal Aérea': 16235.166248955722,\n",
       " 'Instituto del Petróleo': 'No Disponible',\n",
       " 'Ferrería': 21830.366750208854,\n",
       " 'Tepito': 22876.747145641883,\n",
       " 'Morelos': 6447.084795321637,\n",
       " 'Martín Carrera': 25986.600111389584,\n",
       " 'Acatitla': 14331.03842940685,\n",
       " 'Colegio Militar': 16190.261765524923,\n",
       " 'Eje Central': 6109.411862990811,\n",
       " 'Chabacano': 14537.281537176274,\n",
       " 'San Andrés Tomatlán': 5426.228348649402,\n",
       " 'Refinería': 10071.830130882763,\n",
       " 'Nopalera': 9287.119465329992,\n",
       " 'Canal de San Juan': 12841.809523809523,\n",
       " 'Deportivo  de Marzo': 'No Disponible',\n",
       " 'Norte ': 'No Disponible',\n",
       " 'Peñón Viejo': 12949.40768588137,\n",
       " 'Santa Marta': 26461.457811194654,\n",
       " 'Eduardo Molina': 7322.717348927875,\n",
       " 'Agrícola Oriental': 10423.801169590643,\n",
       " 'Apatlaco': 13594.986076301866,\n",
       " 'Aragón': 7551.004734057366,\n",
       " 'Aquiles Serdán': 16421.337510442772,\n",
       " 'La Viga': 7222.434976329713,\n",
       " 'La Villa - Basílica': 'No Disponible',\n",
       " 'UAM-I': 'No Disponible',\n",
       " 'Calle 11': 6990.797270955166,\n",
       " 'Popotla': 10696.581732108049,\n",
       " 'General Anaya': 30377.272347535505,\n",
       " 'Guelatao': 19784.988861041493,\n",
       " 'Hangares': 5113.33194096352,\n",
       " 'Parque de los Venados': 6797.436368699527,\n",
       " 'Candelaria': 15751.42745753272,\n",
       " 'Cerro de la Estrella': 12549.203007518798,\n",
       " 'Ciudad Deportiva': 8443.53021442495,\n",
       " 'Zaragoza': 53387.82929546088,\n",
       " 'Hospital General': 23334.650515176832,\n",
       " 'Hospital 20 de Nov.': 'No Disponible',\n",
       " 'Balbuena': 15388.236145920357,\n",
       " 'Constituyentes': 8876.91283764968,\n",
       " 'Panteones': 13924.825348189415,\n",
       " 'Fray Servando': 8003.428849902534,\n",
       " 'Tezonco': 10309.571150097467,\n",
       " 'Viveros': 23887.406293511558,\n",
       " 'Deportivo Oceanía': 16973.91172375383,\n",
       " 'Tepalcates': 16350.0932887775,\n",
       " 'Copilco': 39913.24812030075,\n",
       " 'Tacuba': 22447.091060985797,\n",
       " 'Lomas Estrella': 5500.307156780841,\n",
       " 'Iztacalco': 21179.025341130604,\n",
       " 'Instituto del Petroleo': 'No Disponible',\n",
       " 'Universidad': 71780.75160122529,\n",
       " 'Cuitláhuac': 20691.7156780841,\n",
       " 'Villa de Cortés': 19064.508771929824,\n",
       " 'Blvd. Puerto Aéreo': 30020.639376218325,\n",
       " 'Periférico Ote': 'No Disponible',\n",
       " 'Normal': 37088.584795321636,\n",
       " 'Romero Rubio': 9169.644110275689,\n",
       " 'Viaducto': 22636.832637148425,\n",
       " 'Tláhuac': 23129.23336118073,\n",
       " 'Patriotismo': 17988.29880256196,\n",
       " 'Xola': 22514.82790309106,\n",
       " 'Mixhuca': 'No Disponible',\n",
       " 'Culhuacán': 6954.838763575605,\n",
       " 'Atlalilco': 15076.393762183236,\n",
       " 'San Antonio': 14935.242272347536,\n",
       " 'Barranca del Muerto': 38920.93428014481,\n",
       " 'Coyoacán': 25103.7716513506,\n",
       " 'Garibaldi': 15206.225842383737,\n",
       " 'División del Norte': 20173.532720690615,\n",
       " 'Velódromo': 9440.072403230299,\n",
       " 'Olivos': 8233.313283208021,\n",
       " 'Miguel Ángel de Quevedo': 'No Disponible',\n",
       " 'Bosque de Aragón': 6614.362573099415,\n",
       " 'Coyuya': 21710.744360902256,\n",
       " 'Lagunilla': 25562.851016429962,\n",
       " 'Eugenia': 19000.01670843776,\n",
       " 'Mexicaltzingo': 10688.62962962963,\n",
       " 'Nativitas': 21693.459760512393,\n",
       " 'San Pedro de Los Pinos': 'No Disponible',\n",
       " 'Moctezuma': 27388.827624617097,\n",
       " 'Lázaro Cárdenas': 13027.722639933167,\n",
       " 'Gómez Farías': 38363.786410470624,\n",
       " 'Camarones': 15090.215538847118,\n",
       " 'San Joaquín': 22628.631021999445,\n",
       " 'San Juan de Letrán': 'No Disponible',\n",
       " 'San Cosme': 26297.284878863826,\n",
       " 'Potrero': 20560.02172096909,\n",
       " 'Tlatelolco': 22481.44611528822,\n",
       " 'La Raza': 22191.812865497075,\n",
       " 'Portales': 22348.149262044,\n",
       " 'Puebla': 32883.18574213311,\n",
       " 'Auditorio': 30762.211918685603,\n",
       " 'Ermita': 12730.697577276525,\n",
       " 'San Lázaro': 23054.42940685046,\n",
       " 'Villa de Aragón': 14225.893622946254,\n",
       " 'Salto del Agua': 20448.74366471735,\n",
       " 'Mixcoac': 16150.259676970203,\n",
       " 'Insurgentes Sur': 19768.93984962406,\n",
       " 'Juárez': 19040.88972431078,\n",
       " 'Niños Héroes': 19447.112781954886,\n",
       " 'Sevilla': 31335.44917850181,\n",
       " 'Centro Médico': 17522.972152603732,\n",
       " 'Constitución de 1917': 87142.28989139515,\n",
       " 'Tasqueña': 86318.47451963241,\n",
       " 'Observatorio': 71939.216374269,\n",
       " 'Chilpancingo': 41863.06739069897,\n",
       " 'Guerrero': 9192.543302701197,\n",
       " 'Chapultepec': 55452.26232247285,\n",
       " 'Etiopía / Plaza de la Transpatencia': 'No Disponible',\n",
       " 'Pantitlán': 76179.70983013089,\n",
       " 'Cuauhtémoc': 22269.549150654413,\n",
       " 'San Antonio Abad': 23549.49986076302,\n",
       " 'Zapata': 19537.352548036757,\n",
       " 'Bellas Artes': 25048.495405179616,\n",
       " 'Oceanía': 9665.855889724311,\n",
       " 'Indios Verdes': 115176.05458089669,\n",
       " 'Polanco': 31335.47201336675,\n",
       " 'Tacubaya': 31279.27030539311,\n",
       " 'Isabel la Católica': 23844.919521024785,\n",
       " 'Allende': 33354.49902534113,\n",
       " 'Buenavista': 55899.357282094126,\n",
       " 'Insurgentes': 56141.03007518797,\n",
       " 'Merced': 50168.16485658591,\n",
       " 'Revolución': 29303.717070453913,\n",
       " 'Balderas': 14951.508075744918,\n",
       " 'Pino Suárez': 28565.2529935951,\n",
       " 'Hidalgo': 25881.416179337233,\n",
       " 'Zócalo': 69174.64550264551}"
      ]
     },
     "execution_count": 12,
     "metadata": {},
     "output_type": "execute_result"
    }
   ],
   "source": [
    "res #va bien."
   ]
  },
  {
   "cell_type": "code",
   "execution_count": 13,
   "metadata": {},
   "outputs": [
    {
     "data": {
      "text/html": [
       "<div>\n",
       "<style scoped>\n",
       "    .dataframe tbody tr th:only-of-type {\n",
       "        vertical-align: middle;\n",
       "    }\n",
       "\n",
       "    .dataframe tbody tr th {\n",
       "        vertical-align: top;\n",
       "    }\n",
       "\n",
       "    .dataframe thead th {\n",
       "        text-align: right;\n",
       "    }\n",
       "</style>\n",
       "<table border=\"1\" class=\"dataframe\">\n",
       "  <thead>\n",
       "    <tr style=\"text-align: right;\">\n",
       "      <th></th>\n",
       "      <th>Unnamed: 0</th>\n",
       "      <th>nombre_estacion</th>\n",
       "      <th>primera_linea</th>\n",
       "      <th>segunda_linea</th>\n",
       "      <th>tercera_linea</th>\n",
       "      <th>cuarta_linea</th>\n",
       "      <th>calif_estacion</th>\n",
       "      <th>ranking_estacion</th>\n",
       "      <th>colonia</th>\n",
       "      <th>calif_colonia</th>\n",
       "      <th>ranking_colonia</th>\n",
       "      <th>stop_lat</th>\n",
       "      <th>stop_lon</th>\n",
       "      <th>Estacion</th>\n",
       "      <th>Afluencia</th>\n",
       "    </tr>\n",
       "  </thead>\n",
       "  <tbody>\n",
       "    <tr>\n",
       "      <th>30</th>\n",
       "      <td>30</td>\n",
       "      <td>Cuatro Caminos</td>\n",
       "      <td>Metro 2</td>\n",
       "      <td>Ninguna</td>\n",
       "      <td>Ninguna</td>\n",
       "      <td>Ninguna</td>\n",
       "      <td>99.17</td>\n",
       "      <td>17</td>\n",
       "      <td>San Joaquín</td>\n",
       "      <td>92.3</td>\n",
       "      <td>880</td>\n",
       "      <td>19.458454</td>\n",
       "      <td>-99.214643</td>\n",
       "      <td>Cuatro Caminos</td>\n",
       "      <td>115795</td>\n",
       "    </tr>\n",
       "  </tbody>\n",
       "</table>\n",
       "</div>"
      ],
      "text/plain": [
       "    Unnamed: 0 nombre_estacion primera_linea segunda_linea tercera_linea  \\\n",
       "30          30  Cuatro Caminos       Metro 2       Ninguna       Ninguna   \n",
       "\n",
       "   cuarta_linea  calif_estacion  ranking_estacion      colonia calif_colonia  \\\n",
       "30      Ninguna           99.17                17  San Joaquín          92.3   \n",
       "\n",
       "   ranking_colonia   stop_lat   stop_lon        Estacion Afluencia  \n",
       "30             880  19.458454 -99.214643  Cuatro Caminos    115795  "
      ]
     },
     "execution_count": 13,
     "metadata": {},
     "output_type": "execute_result"
    }
   ],
   "source": [
    "estaciones['Afluencia'] = estaciones.Estacion.map(res)\n",
    "estaciones[estaciones.nombre_estacion == 'Cuatro Caminos']\n",
    "#ver el valor de Afluencia en cuatro caminos. Sí funcionó esto. "
   ]
  },
  {
   "cell_type": "code",
   "execution_count": 14,
   "metadata": {},
   "outputs": [],
   "source": [
    "estaciones = estaciones.drop(columns=['Estacion', 'Unnamed: 0'])\n",
    "estaciones = estaciones.rename(columns={'Afluencia': 'afluencia_promedio'})"
   ]
  },
  {
   "cell_type": "markdown",
   "metadata": {},
   "source": [
    "# Listo. Ya tenemos el nivel de afluencia promedio para prácticamente todas las estaciones, ¿luego qué sigue? \n",
    "\n",
    "    Tenemos dos opciones. La primera es dejar el número así tal cual y dejar que el usuario interprete el dato así como venga, y la otra es hacer binning. Podemos etiquetar a las estaciones como 'Muy Concurridas', 'Más o menos concurridas', etc. Notar que Google siempre le ganará a nuestro análisis porque toma la información en vivo, mientras que nosotros solo nos basamos en el promedio histórico. "
   ]
  },
  {
   "cell_type": "code",
   "execution_count": 15,
   "metadata": {},
   "outputs": [
    {
     "data": {
      "text/plain": [
       "count               195\n",
       "unique              150\n",
       "top       No Disponible\n",
       "freq                 16\n",
       "Name: afluencia_promedio, dtype: object"
      ]
     },
     "execution_count": 15,
     "metadata": {},
     "output_type": "execute_result"
    }
   ],
   "source": [
    "estaciones.afluencia_promedio.describe()"
   ]
  },
  {
   "cell_type": "markdown",
   "metadata": {},
   "source": [
    "Decidimos dejar el número tal cual porque para el usuario eso le da una mayor impresión acerca de nuestro sistema. Se ve mucho más preciso (y lo es) dar un número distinto para cada estación que simplemente mencionar una de varias categorías preseleccionadas."
   ]
  },
  {
   "cell_type": "code",
   "execution_count": 16,
   "metadata": {},
   "outputs": [],
   "source": [
    "estaciones.afluencia_promedio = estaciones.afluencia_promedio.apply(lambda x: round(int(x), 0)  if x != \"No Disponible\" else x)"
   ]
  },
  {
   "cell_type": "code",
   "execution_count": 24,
   "metadata": {},
   "outputs": [
    {
     "data": {
      "text/html": [
       "<div>\n",
       "<style scoped>\n",
       "    .dataframe tbody tr th:only-of-type {\n",
       "        vertical-align: middle;\n",
       "    }\n",
       "\n",
       "    .dataframe tbody tr th {\n",
       "        vertical-align: top;\n",
       "    }\n",
       "\n",
       "    .dataframe thead th {\n",
       "        text-align: right;\n",
       "    }\n",
       "</style>\n",
       "<table border=\"1\" class=\"dataframe\">\n",
       "  <thead>\n",
       "    <tr style=\"text-align: right;\">\n",
       "      <th></th>\n",
       "      <th>nombre_estacion</th>\n",
       "      <th>primera_linea</th>\n",
       "      <th>segunda_linea</th>\n",
       "      <th>tercera_linea</th>\n",
       "      <th>cuarta_linea</th>\n",
       "      <th>calif_estacion</th>\n",
       "      <th>ranking_estacion</th>\n",
       "      <th>colonia</th>\n",
       "      <th>calif_colonia</th>\n",
       "      <th>ranking_colonia</th>\n",
       "      <th>stop_lat</th>\n",
       "      <th>stop_lon</th>\n",
       "      <th>afluencia_promedio</th>\n",
       "    </tr>\n",
       "  </thead>\n",
       "  <tbody>\n",
       "    <tr>\n",
       "      <th>185</th>\n",
       "      <td>Balderas_1</td>\n",
       "      <td>Metro 3</td>\n",
       "      <td>Metro 1</td>\n",
       "      <td>Ninguna</td>\n",
       "      <td>Ninguna</td>\n",
       "      <td>69.81</td>\n",
       "      <td>172</td>\n",
       "      <td>Doctores</td>\n",
       "      <td>57.0</td>\n",
       "      <td>1626</td>\n",
       "      <td>19.426924</td>\n",
       "      <td>-99.148811</td>\n",
       "      <td>14951</td>\n",
       "    </tr>\n",
       "    <tr>\n",
       "      <th>186</th>\n",
       "      <td>Pino Suárez_1</td>\n",
       "      <td>Metro 2</td>\n",
       "      <td>Metro 1</td>\n",
       "      <td>Ninguna</td>\n",
       "      <td>Ninguna</td>\n",
       "      <td>61.77</td>\n",
       "      <td>173</td>\n",
       "      <td>Centro</td>\n",
       "      <td>25.73</td>\n",
       "      <td>1627</td>\n",
       "      <td>19.425437</td>\n",
       "      <td>-99.133040</td>\n",
       "      <td>28565</td>\n",
       "    </tr>\n",
       "    <tr>\n",
       "      <th>187</th>\n",
       "      <td>Hidalgo_1_3</td>\n",
       "      <td>Metro 3</td>\n",
       "      <td>Metro 2</td>\n",
       "      <td>Ninguna</td>\n",
       "      <td>Ninguna</td>\n",
       "      <td>61.50</td>\n",
       "      <td>174</td>\n",
       "      <td>Centro</td>\n",
       "      <td>25.73</td>\n",
       "      <td>1627</td>\n",
       "      <td>19.436749</td>\n",
       "      <td>-99.146816</td>\n",
       "      <td>25881</td>\n",
       "    </tr>\n",
       "    <tr>\n",
       "      <th>188</th>\n",
       "      <td>Balderas_1_2</td>\n",
       "      <td>Metro 1</td>\n",
       "      <td>Metro 3</td>\n",
       "      <td>Ninguna</td>\n",
       "      <td>Ninguna</td>\n",
       "      <td>60.39</td>\n",
       "      <td>175</td>\n",
       "      <td>Centro</td>\n",
       "      <td>25.73</td>\n",
       "      <td>1627</td>\n",
       "      <td>19.427299</td>\n",
       "      <td>-99.149122</td>\n",
       "      <td>14951</td>\n",
       "    </tr>\n",
       "    <tr>\n",
       "      <th>189</th>\n",
       "      <td>Chabacano_1_2</td>\n",
       "      <td>Metro 2</td>\n",
       "      <td>Metro 8</td>\n",
       "      <td>Metro 9</td>\n",
       "      <td>Ninguna</td>\n",
       "      <td>54.02</td>\n",
       "      <td>176</td>\n",
       "      <td>Vista Alegre</td>\n",
       "      <td>90.09</td>\n",
       "      <td>1208</td>\n",
       "      <td>19.408913</td>\n",
       "      <td>-99.135422</td>\n",
       "      <td>14537</td>\n",
       "    </tr>\n",
       "    <tr>\n",
       "      <th>190</th>\n",
       "      <td>Bellas Artes_1_2</td>\n",
       "      <td>Metro 2</td>\n",
       "      <td>Metro 8</td>\n",
       "      <td>Ninguna</td>\n",
       "      <td>Ninguna</td>\n",
       "      <td>45.98</td>\n",
       "      <td>177</td>\n",
       "      <td>Centro</td>\n",
       "      <td>25.73</td>\n",
       "      <td>1627</td>\n",
       "      <td>19.435960</td>\n",
       "      <td>-99.141558</td>\n",
       "      <td>25048</td>\n",
       "    </tr>\n",
       "    <tr>\n",
       "      <th>191</th>\n",
       "      <td>Pantitlán_1_3</td>\n",
       "      <td>Metro 9</td>\n",
       "      <td>Metro 1</td>\n",
       "      <td>Metro 5</td>\n",
       "      <td>Metro A</td>\n",
       "      <td>44.32</td>\n",
       "      <td>178</td>\n",
       "      <td>Agrícola Pantitlan</td>\n",
       "      <td>79.29</td>\n",
       "      <td>1610</td>\n",
       "      <td>19.414885</td>\n",
       "      <td>-99.072516</td>\n",
       "      <td>76179</td>\n",
       "    </tr>\n",
       "    <tr>\n",
       "      <th>192</th>\n",
       "      <td>Zócalo</td>\n",
       "      <td>Metro 2</td>\n",
       "      <td>Ninguna</td>\n",
       "      <td>Ninguna</td>\n",
       "      <td>Ninguna</td>\n",
       "      <td>29.64</td>\n",
       "      <td>179</td>\n",
       "      <td>Centro</td>\n",
       "      <td>25.73</td>\n",
       "      <td>1627</td>\n",
       "      <td>19.432602</td>\n",
       "      <td>-99.131879</td>\n",
       "      <td>69174</td>\n",
       "    </tr>\n",
       "    <tr>\n",
       "      <th>193</th>\n",
       "      <td>Pino Suárez_1_2</td>\n",
       "      <td>Metro 1</td>\n",
       "      <td>Metro 2</td>\n",
       "      <td>Ninguna</td>\n",
       "      <td>Ninguna</td>\n",
       "      <td>4.71</td>\n",
       "      <td>180</td>\n",
       "      <td>Centro</td>\n",
       "      <td>25.73</td>\n",
       "      <td>1627</td>\n",
       "      <td>19.425953</td>\n",
       "      <td>-99.132686</td>\n",
       "      <td>28565</td>\n",
       "    </tr>\n",
       "    <tr>\n",
       "      <th>194</th>\n",
       "      <td>Hidalgo_1_2</td>\n",
       "      <td>Metro 2</td>\n",
       "      <td>Metro 3</td>\n",
       "      <td>Ninguna</td>\n",
       "      <td>Ninguna</td>\n",
       "      <td>0.00</td>\n",
       "      <td>181</td>\n",
       "      <td>Guerrero</td>\n",
       "      <td>77.67</td>\n",
       "      <td>1612</td>\n",
       "      <td>19.437700</td>\n",
       "      <td>-99.147309</td>\n",
       "      <td>25881</td>\n",
       "    </tr>\n",
       "  </tbody>\n",
       "</table>\n",
       "</div>"
      ],
      "text/plain": [
       "      nombre_estacion primera_linea segunda_linea tercera_linea cuarta_linea  \\\n",
       "185        Balderas_1       Metro 3       Metro 1       Ninguna      Ninguna   \n",
       "186     Pino Suárez_1       Metro 2       Metro 1       Ninguna      Ninguna   \n",
       "187       Hidalgo_1_3       Metro 3       Metro 2       Ninguna      Ninguna   \n",
       "188      Balderas_1_2       Metro 1       Metro 3       Ninguna      Ninguna   \n",
       "189     Chabacano_1_2       Metro 2       Metro 8       Metro 9      Ninguna   \n",
       "190  Bellas Artes_1_2       Metro 2       Metro 8       Ninguna      Ninguna   \n",
       "191     Pantitlán_1_3       Metro 9       Metro 1       Metro 5      Metro A   \n",
       "192            Zócalo       Metro 2       Ninguna       Ninguna      Ninguna   \n",
       "193   Pino Suárez_1_2       Metro 1       Metro 2       Ninguna      Ninguna   \n",
       "194       Hidalgo_1_2       Metro 2       Metro 3       Ninguna      Ninguna   \n",
       "\n",
       "     calif_estacion  ranking_estacion             colonia calif_colonia  \\\n",
       "185           69.81               172            Doctores          57.0   \n",
       "186           61.77               173              Centro         25.73   \n",
       "187           61.50               174              Centro         25.73   \n",
       "188           60.39               175              Centro         25.73   \n",
       "189           54.02               176        Vista Alegre         90.09   \n",
       "190           45.98               177              Centro         25.73   \n",
       "191           44.32               178  Agrícola Pantitlan         79.29   \n",
       "192           29.64               179              Centro         25.73   \n",
       "193            4.71               180              Centro         25.73   \n",
       "194            0.00               181            Guerrero         77.67   \n",
       "\n",
       "    ranking_colonia   stop_lat   stop_lon afluencia_promedio  \n",
       "185            1626  19.426924 -99.148811              14951  \n",
       "186            1627  19.425437 -99.133040              28565  \n",
       "187            1627  19.436749 -99.146816              25881  \n",
       "188            1627  19.427299 -99.149122              14951  \n",
       "189            1208  19.408913 -99.135422              14537  \n",
       "190            1627  19.435960 -99.141558              25048  \n",
       "191            1610  19.414885 -99.072516              76179  \n",
       "192            1627  19.432602 -99.131879              69174  \n",
       "193            1627  19.425953 -99.132686              28565  \n",
       "194            1612  19.437700 -99.147309              25881  "
      ]
     },
     "execution_count": 24,
     "metadata": {},
     "output_type": "execute_result"
    }
   ],
   "source": [
    "estaciones.tail(10)"
   ]
  },
  {
   "cell_type": "code",
   "execution_count": 18,
   "metadata": {},
   "outputs": [],
   "source": [
    "#podemos ya guardar el archivo! \n",
    "estaciones_con_afluencia = estaciones.to_csv('estaciones_afluencia_11_12.csv')"
   ]
  },
  {
   "cell_type": "code",
   "execution_count": null,
   "metadata": {},
   "outputs": [],
   "source": []
  }
 ],
 "metadata": {
  "kernelspec": {
   "display_name": "Python 3",
   "language": "python",
   "name": "python3"
  },
  "language_info": {
   "codemirror_mode": {
    "name": "ipython",
    "version": 3
   },
   "file_extension": ".py",
   "mimetype": "text/x-python",
   "name": "python",
   "nbconvert_exporter": "python",
   "pygments_lexer": "ipython3",
   "version": "3.7.5"
  }
 },
 "nbformat": 4,
 "nbformat_minor": 2
}
