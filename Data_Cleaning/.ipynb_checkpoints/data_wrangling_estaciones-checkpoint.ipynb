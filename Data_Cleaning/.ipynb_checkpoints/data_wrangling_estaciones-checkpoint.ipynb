{
 "cells": [
  {
   "cell_type": "markdown",
   "metadata": {},
   "source": [
    "# Raw Data Wrangling"
   ]
  },
  {
   "cell_type": "markdown",
   "metadata": {},
   "source": [
    "En este Notebook estuve explorando la base de datos del gobierno con las estaciones del metro para más adelante limpiarla (en el Notebook llamado \"data_cleaning_estaciones\"). "
   ]
  },
  {
   "cell_type": "code",
   "execution_count": null,
   "metadata": {},
   "outputs": [],
   "source": [
    "import pymongo\n",
    "import pandas as pd\n",
    "import numpy as np\n",
    "import matplotlib.pyplot as plt\n",
    "%matplotlib inline\n",
    "import warnings\n",
    "warnings.simplefilter('ignore')\n"
   ]
  },
  {
   "cell_type": "code",
   "execution_count": 7,
   "metadata": {},
   "outputs": [],
   "source": [
    "metro = pd.read_csv('estaciones-metro.csv', sep=\";\")"
   ]
  },
  {
   "cell_type": "code",
   "execution_count": 8,
   "metadata": {},
   "outputs": [
    {
     "data": {
      "text/html": [
       "<div>\n",
       "<style scoped>\n",
       "    .dataframe tbody tr th:only-of-type {\n",
       "        vertical-align: middle;\n",
       "    }\n",
       "\n",
       "    .dataframe tbody tr th {\n",
       "        vertical-align: top;\n",
       "    }\n",
       "\n",
       "    .dataframe thead th {\n",
       "        text-align: right;\n",
       "    }\n",
       "</style>\n",
       "<table border=\"1\" class=\"dataframe\">\n",
       "  <thead>\n",
       "    <tr style=\"text-align: right;\">\n",
       "      <th></th>\n",
       "      <th>Geometry</th>\n",
       "      <th>stop_id</th>\n",
       "      <th>stop_code</th>\n",
       "      <th>stop_name</th>\n",
       "      <th>stop_desc</th>\n",
       "      <th>stop_lat</th>\n",
       "      <th>stop_lon</th>\n",
       "      <th>trip_heads</th>\n",
       "      <th>agency_id</th>\n",
       "      <th>Geopoint</th>\n",
       "    </tr>\n",
       "  </thead>\n",
       "  <tbody>\n",
       "    <tr>\n",
       "      <th>0</th>\n",
       "      <td>{\"type\": \"Point\", \"coordinates\": [-99.17122364...</td>\n",
       "      <td>14124.0</td>\n",
       "      <td>NaN</td>\n",
       "      <td>Colegio Militar</td>\n",
       "      <td>Metro 2</td>\n",
       "      <td>19.448646</td>\n",
       "      <td>-99.171224</td>\n",
       "      <td>Cuatro Caminos - Tasqueña</td>\n",
       "      <td>METRO</td>\n",
       "      <td>19.44864628,-99.17122364</td>\n",
       "    </tr>\n",
       "    <tr>\n",
       "      <th>1</th>\n",
       "      <td>{\"type\": \"Point\", \"coordinates\": [-99.17658806...</td>\n",
       "      <td>14119.0</td>\n",
       "      <td>NaN</td>\n",
       "      <td>Chapultepec</td>\n",
       "      <td>Metro 1</td>\n",
       "      <td>19.420256</td>\n",
       "      <td>-99.176588</td>\n",
       "      <td>Observatorio - Pantitlán</td>\n",
       "      <td>METRO</td>\n",
       "      <td>19.42025648,-99.17658806</td>\n",
       "    </tr>\n",
       "    <tr>\n",
       "      <th>2</th>\n",
       "      <td>{\"type\": \"Point\", \"coordinates\": [-99.10934, 1...</td>\n",
       "      <td>14095.0</td>\n",
       "      <td>NaN</td>\n",
       "      <td>Apatlaco</td>\n",
       "      <td>Metro 8</td>\n",
       "      <td>19.378298</td>\n",
       "      <td>-99.109340</td>\n",
       "      <td>Garibaldi - Constitución de 1917</td>\n",
       "      <td>METRO</td>\n",
       "      <td>19.378298,-99.10934</td>\n",
       "    </tr>\n",
       "    <tr>\n",
       "      <th>3</th>\n",
       "      <td>{\"type\": \"Point\", \"coordinates\": [-99.08486724...</td>\n",
       "      <td>14234.0</td>\n",
       "      <td>NaN</td>\n",
       "      <td>Calle 11</td>\n",
       "      <td>Metro 12</td>\n",
       "      <td>19.320256</td>\n",
       "      <td>-99.084867</td>\n",
       "      <td>Tláhuac - Mixcoac</td>\n",
       "      <td>METRO</td>\n",
       "      <td>19.32025578,-99.08486724</td>\n",
       "    </tr>\n",
       "    <tr>\n",
       "      <th>4</th>\n",
       "      <td>{\"type\": \"Point\", \"coordinates\": [-99.08690572...</td>\n",
       "      <td>14061.0</td>\n",
       "      <td>NaN</td>\n",
       "      <td>Oceanía</td>\n",
       "      <td>Metro Línea 5 correspondencia con línea B.</td>\n",
       "      <td>19.445429</td>\n",
       "      <td>-99.086906</td>\n",
       "      <td>Pantitlán - Politécnico</td>\n",
       "      <td>METRO</td>\n",
       "      <td>19.44542916,-99.08690572</td>\n",
       "    </tr>\n",
       "  </tbody>\n",
       "</table>\n",
       "</div>"
      ],
      "text/plain": [
       "                                            Geometry  stop_id  stop_code  \\\n",
       "0  {\"type\": \"Point\", \"coordinates\": [-99.17122364...  14124.0        NaN   \n",
       "1  {\"type\": \"Point\", \"coordinates\": [-99.17658806...  14119.0        NaN   \n",
       "2  {\"type\": \"Point\", \"coordinates\": [-99.10934, 1...  14095.0        NaN   \n",
       "3  {\"type\": \"Point\", \"coordinates\": [-99.08486724...  14234.0        NaN   \n",
       "4  {\"type\": \"Point\", \"coordinates\": [-99.08690572...  14061.0        NaN   \n",
       "\n",
       "         stop_name                                   stop_desc   stop_lat  \\\n",
       "0  Colegio Militar                                     Metro 2  19.448646   \n",
       "1      Chapultepec                                     Metro 1  19.420256   \n",
       "2         Apatlaco                                     Metro 8  19.378298   \n",
       "3         Calle 11                                    Metro 12  19.320256   \n",
       "4          Oceanía  Metro Línea 5 correspondencia con línea B.  19.445429   \n",
       "\n",
       "    stop_lon                        trip_heads agency_id  \\\n",
       "0 -99.171224         Cuatro Caminos - Tasqueña     METRO   \n",
       "1 -99.176588          Observatorio - Pantitlán     METRO   \n",
       "2 -99.109340  Garibaldi - Constitución de 1917     METRO   \n",
       "3 -99.084867                 Tláhuac - Mixcoac     METRO   \n",
       "4 -99.086906           Pantitlán - Politécnico     METRO   \n",
       "\n",
       "                   Geopoint  \n",
       "0  19.44864628,-99.17122364  \n",
       "1  19.42025648,-99.17658806  \n",
       "2       19.378298,-99.10934  \n",
       "3  19.32025578,-99.08486724  \n",
       "4  19.44542916,-99.08690572  "
      ]
     },
     "execution_count": 8,
     "metadata": {},
     "output_type": "execute_result"
    }
   ],
   "source": [
    "metro.head()"
   ]
  },
  {
   "cell_type": "code",
   "execution_count": 9,
   "metadata": {},
   "outputs": [
    {
     "data": {
      "text/plain": [
       "Geometry       object\n",
       "stop_id       float64\n",
       "stop_code     float64\n",
       "stop_name      object\n",
       "stop_desc      object\n",
       "stop_lat      float64\n",
       "stop_lon      float64\n",
       "trip_heads     object\n",
       "agency_id      object\n",
       "Geopoint       object\n",
       "dtype: object"
      ]
     },
     "execution_count": 9,
     "metadata": {},
     "output_type": "execute_result"
    }
   ],
   "source": [
    "metro.dtypes"
   ]
  },
  {
   "cell_type": "code",
   "execution_count": 10,
   "metadata": {},
   "outputs": [
    {
     "data": {
      "text/plain": [
       "(195, 10)"
      ]
     },
     "execution_count": 10,
     "metadata": {},
     "output_type": "execute_result"
    }
   ],
   "source": [
    "metro.shape"
   ]
  },
  {
   "cell_type": "code",
   "execution_count": 11,
   "metadata": {},
   "outputs": [
    {
     "data": {
      "text/plain": [
       "Geometry        0\n",
       "stop_id         0\n",
       "stop_code     195\n",
       "stop_name       0\n",
       "stop_desc       0\n",
       "stop_lat        0\n",
       "stop_lon        0\n",
       "trip_heads      0\n",
       "agency_id       0\n",
       "Geopoint        0\n",
       "dtype: int64"
      ]
     },
     "execution_count": 11,
     "metadata": {},
     "output_type": "execute_result"
    }
   ],
   "source": [
    "metro.isnull().sum()"
   ]
  },
  {
   "cell_type": "code",
   "execution_count": 12,
   "metadata": {},
   "outputs": [],
   "source": [
    "metro = metro.drop(columns=['stop_code']) #son puros vacíos"
   ]
  },
  {
   "cell_type": "code",
   "execution_count": 13,
   "metadata": {},
   "outputs": [],
   "source": [
    "metro = metro.drop(columns=['agency_id']) #todos solo dicen 'METRO'; no aporta información"
   ]
  },
  {
   "cell_type": "code",
   "execution_count": 14,
   "metadata": {},
   "outputs": [
    {
     "data": {
      "text/plain": [
       "array(['Cuatro Caminos - Tasqueña', 'Observatorio - Pantitlán',\n",
       "       'Garibaldi - Constitución de 1917', 'Tláhuac - Mixcoac',\n",
       "       'Pantitlán - Politécnico', 'Mixcoac - Tláhuac',\n",
       "       'Tacubaya - Pantitlán', 'Martín Carrera - El Rosario',\n",
       "       'La Paz - Pantitlán', 'Indios Verdes - Universidad',\n",
       "       'Martín Carrera - Santa Anita', 'Buenavista - Ciudad Azteca',\n",
       "       'Barranca del Muerto - El Rosario'], dtype=object)"
      ]
     },
     "execution_count": 14,
     "metadata": {},
     "output_type": "execute_result"
    }
   ],
   "source": [
    "metro.trip_heads.unique()\n",
    "#Estas son las líneas; o las direcciones"
   ]
  },
  {
   "cell_type": "code",
   "execution_count": 16,
   "metadata": {
    "scrolled": true
   },
   "outputs": [
    {
     "data": {
      "text/plain": [
       "array(['Metro 2', 'Metro 1', 'Metro 8', 'Metro 12',\n",
       "       'Metro Línea 5 correspondencia con línea B.',\n",
       "       'Metro Línea 12 correspondencia con línea 7.', 'Metro 9',\n",
       "       'Metro Línea 5 correspondencia con línea 3.',\n",
       "       'Metro Línea 9 correspondencia con línea 4.', 'Metro 6',\n",
       "       'Metro Línea 2 correspondencia con línea 7.', 'Metro A', 'Metro 3',\n",
       "       'Metro 4', 'Metro Línea 6 correspondencia con línea 5.',\n",
       "       'Metro Línea 1 correspondencia con líneas 5 9 y A.', 'Metro 5',\n",
       "       'Metro B', 'Metro 7', 'Metro Línea 3 correspondencia con línea 2.',\n",
       "       'Metro Línea 1 correspondencia con línea 4.',\n",
       "       'Metro Línea 3 correspondencia con línea 6.',\n",
       "       'Metro Línea 2 correspondencia con línea 8 y línea 9.',\n",
       "       'Metro Línea 5 correspondencia con línea 4.',\n",
       "       'Metro Línea 1 correspondencia con línea 2.',\n",
       "       'Metro Línea 4 correspondencia con línea B.',\n",
       "       'Metro Línea 4 correspondencia con línea 9.',\n",
       "       'Metro Línea B correspondencia con línea 3.',\n",
       "       'Metro Línea B correspondencia con línea 5.',\n",
       "       'Metro Línea 12 correspondencia con línea 3.',\n",
       "       'Metro Línea 3 correspondencia con línea 9.',\n",
       "       'Metro Línea 5 correspondencia con líneas 1 9 y A.',\n",
       "       'Metro Línea 9 correspondencia con línea 2 y línea 8.',\n",
       "       'Metro Línea 4 correspondencia con línea 6.',\n",
       "       'Metro Línea B correspondencia con línea 4.',\n",
       "       'Metro Línea 2 correspondencia con línea 8.',\n",
       "       'Metro Línea 6 correspondencia con línea 4.',\n",
       "       'Metro Línea A correspondencia con líneas 1 5 y 9.',\n",
       "       'Metro Línea 4 correspondencia con líneas 8.',\n",
       "       'Metro Línea 6 correspondencia con línea 3.',\n",
       "       'Metro Línea 12 correspondencia con línea 8.',\n",
       "       'Metro Línea 1 correspondencia con línea 7 y línea 9.',\n",
       "       'Metro Línea 8 correspondencia con línea 4.',\n",
       "       'Metro Línea 7 correspondencia con línea 2.',\n",
       "       'Metro Línea 8 correspondencia con línea 2 y línea 9.',\n",
       "       'Metro Línea 9 correspondencia con línea 3.',\n",
       "       'Metro Línea 4 correspondencia con línea 5.',\n",
       "       'Metro Línea 9 correspondencia con líneas 1 5 y A.',\n",
       "       'Metro Línea 1 correspondencia con línea 3.',\n",
       "       'Metro Línea 3 correspondencia con línea 1.',\n",
       "       'Metro Línea 8 correspondencia con línea 1.',\n",
       "       'Metro Línea 3 correspondencia con línea 5.',\n",
       "       'Metro Línea 7 correspondencia con línea 12.',\n",
       "       'Metro Línea 6 correspondencia con línea 7.',\n",
       "       'Metro Línea 8 correspondencia con línea B.',\n",
       "       'Metro Línea 2 correspondencia con línea 1.',\n",
       "       'Metro Línea 7 correspondencia con línea 6.',\n",
       "       'Metro Línea 3 correspondencia con línea B.', 'Metro Línea 12',\n",
       "       'Metro Línea 1 correspondencia con línea B.',\n",
       "       'Metro Línea B correspondencia con línea 1.',\n",
       "       'Metro Línea 2 correspondencia con línea 3.',\n",
       "       'Metro Línea 8 correspondencia con línea 12.',\n",
       "       'Metro Línea 4 correspondencia con línea 1.',\n",
       "       'Metro Línea 1 correspondencia con línea 8.',\n",
       "       'Metro Línea 8 correspondencia con línea 2.',\n",
       "       'Metro Línea B correspondencia con línea 8.',\n",
       "       'Metro Línea 7 correspondencia con línea 1 y línea 9.',\n",
       "       'Metro Línea 9 correspondencia con línea 1 y línea 7.',\n",
       "       'Metro Línea 3 correspondencia con línea 12.'], dtype=object)"
      ]
     },
     "execution_count": 16,
     "metadata": {},
     "output_type": "execute_result"
    }
   ],
   "source": [
    "metro.stop_desc.unique()"
   ]
  },
  {
   "cell_type": "code",
   "execution_count": 126,
   "metadata": {},
   "outputs": [
    {
     "data": {
      "text/html": [
       "<div>\n",
       "<style scoped>\n",
       "    .dataframe tbody tr th:only-of-type {\n",
       "        vertical-align: middle;\n",
       "    }\n",
       "\n",
       "    .dataframe tbody tr th {\n",
       "        vertical-align: top;\n",
       "    }\n",
       "\n",
       "    .dataframe thead th {\n",
       "        text-align: right;\n",
       "    }\n",
       "</style>\n",
       "<table border=\"1\" class=\"dataframe\">\n",
       "  <thead>\n",
       "    <tr style=\"text-align: right;\">\n",
       "      <th></th>\n",
       "      <th>stop_id</th>\n",
       "      <th>stop_name</th>\n",
       "      <th>stop_desc</th>\n",
       "      <th>stop_lat</th>\n",
       "      <th>stop_lon</th>\n",
       "      <th>trip_heads</th>\n",
       "      <th>Geopoint</th>\n",
       "    </tr>\n",
       "  </thead>\n",
       "  <tbody>\n",
       "    <tr>\n",
       "      <th>81</th>\n",
       "      <td>14215.0</td>\n",
       "      <td>Pantitlán_1</td>\n",
       "      <td>Metro Línea A correspondencia con líneas 1 5 y 9.</td>\n",
       "      <td>19.41461</td>\n",
       "      <td>-99.072626</td>\n",
       "      <td>La Paz - Pantitlán</td>\n",
       "      <td>19.4146103,-99.07262564</td>\n",
       "    </tr>\n",
       "  </tbody>\n",
       "</table>\n",
       "</div>"
      ],
      "text/plain": [
       "    stop_id    stop_name                                          stop_desc  \\\n",
       "81  14215.0  Pantitlán_1  Metro Línea A correspondencia con líneas 1 5 y 9.   \n",
       "\n",
       "    stop_lat   stop_lon          trip_heads                 Geopoint  \n",
       "81  19.41461 -99.072626  La Paz - Pantitlán  19.4146103,-99.07262564  "
      ]
     },
     "execution_count": 126,
     "metadata": {},
     "output_type": "execute_result"
    }
   ],
   "source": [
    "metro[metro.stop_desc == 'Metro Línea A correspondencia con líneas 1 5 y 9.'] #esto es para checar\n",
    "#que mi método de encontrar las 4 estaciones funciona. "
   ]
  },
  {
   "cell_type": "code",
   "execution_count": null,
   "metadata": {},
   "outputs": [],
   "source": [
    "def clean_estaciones(x):\n",
    "    x = str(x)\n",
    "    if \"correspondencia\" in x:\n",
    "        x = x[:14]\n",
    "        return x\n",
    "    return x\n",
    "    "
   ]
  },
  {
   "cell_type": "code",
   "execution_count": 20,
   "metadata": {},
   "outputs": [],
   "source": [
    "#metro.stop_desc = metro.stop_desc.apply(clean_estaciones)\n",
    "#metro.stop_desc.unique()"
   ]
  },
  {
   "cell_type": "code",
   "execution_count": 19,
   "metadata": {},
   "outputs": [],
   "source": [
    "#metro.stop_name.unique()"
   ]
  },
  {
   "cell_type": "code",
   "execution_count": 22,
   "metadata": {},
   "outputs": [
    {
     "data": {
      "text/plain": [
       "Index(['Geometry', 'stop_id', 'stop_name', 'stop_desc', 'stop_lat', 'stop_lon',\n",
       "       'trip_heads', 'Geopoint'],\n",
       "      dtype='object')"
      ]
     },
     "execution_count": 22,
     "metadata": {},
     "output_type": "execute_result"
    }
   ],
   "source": [
    "metro.columns"
   ]
  },
  {
   "cell_type": "code",
   "execution_count": 23,
   "metadata": {},
   "outputs": [],
   "source": [
    "metro = metro.drop(columns=['Geometry'])"
   ]
  },
  {
   "cell_type": "code",
   "execution_count": 24,
   "metadata": {},
   "outputs": [
    {
     "data": {
      "text/plain": [
       "stop_id       0\n",
       "stop_name     0\n",
       "stop_desc     0\n",
       "stop_lat      0\n",
       "stop_lon      0\n",
       "trip_heads    0\n",
       "Geopoint      0\n",
       "dtype: int64"
      ]
     },
     "execution_count": 24,
     "metadata": {},
     "output_type": "execute_result"
    }
   ],
   "source": [
    "metro.isnull().sum()"
   ]
  },
  {
   "cell_type": "code",
   "execution_count": 25,
   "metadata": {},
   "outputs": [],
   "source": [
    "metro_limpio = metro.copy()"
   ]
  },
  {
   "cell_type": "code",
   "execution_count": 75,
   "metadata": {},
   "outputs": [],
   "source": [
    "def clean_stations_1(x):\n",
    "    \"\"\" Esta función me ayuda a obtener la línea principal de la que es parte la estación\"\"\"\n",
    "    x = str(x)\n",
    "    \n",
    "    if \"correspondencia\" in x:\n",
    "        x = x.split(\"correspondencia con\")[0]\n",
    "        x = x.replace(\"Línea\", \"\")\n",
    "        x = x.replace(\"  \", \" \")\n",
    "        return x.strip()\n",
    "        \n",
    "    elif \"correspondencia\" not in x:\n",
    "        x = x.replace(\"Línea\", \"\")\n",
    "        x = x.replace(\"  \", \" \")\n",
    "        return x.strip()"
   ]
  },
  {
   "cell_type": "code",
   "execution_count": 76,
   "metadata": {},
   "outputs": [],
   "source": [
    "lista_1 = metro_limpio.stop_desc.apply(clean_stations_1)"
   ]
  },
  {
   "cell_type": "code",
   "execution_count": 77,
   "metadata": {},
   "outputs": [
    {
     "data": {
      "text/plain": [
       "0      Metro 2\n",
       "1      Metro 1\n",
       "2      Metro 8\n",
       "3     Metro 12\n",
       "4      Metro 5\n",
       "5     Metro 12\n",
       "6      Metro 9\n",
       "7      Metro 5\n",
       "8      Metro 9\n",
       "9      Metro 1\n",
       "10     Metro 6\n",
       "11     Metro 2\n",
       "12     Metro 2\n",
       "13     Metro 2\n",
       "14     Metro 9\n",
       "15     Metro 2\n",
       "16     Metro 8\n",
       "17     Metro A\n",
       "18    Metro 12\n",
       "19     Metro 3\n",
       "Name: stop_desc, dtype: object"
      ]
     },
     "execution_count": 77,
     "metadata": {},
     "output_type": "execute_result"
    }
   ],
   "source": [
    "lista_1[:20]"
   ]
  },
  {
   "cell_type": "code",
   "execution_count": 66,
   "metadata": {},
   "outputs": [],
   "source": [
    "metro_limpio['estacion_principal'] = lista_1"
   ]
  },
  {
   "cell_type": "code",
   "execution_count": 78,
   "metadata": {},
   "outputs": [],
   "source": [
    "def clean_stations_2(x):\n",
    "    \"\"\"Esta función me ayuda a obtener las líneas extras con las que se coordina esa estación.\"\"\"\n",
    "  \n",
    "    x = str(x)\n",
    "    \n",
    "    if \"correspondencia\" in x:\n",
    "        x = x.split(\"correspondencia con\")[1]\n",
    "        x = x.replace(\"Línea\", \"Metro\")\n",
    "        x = x.replace(\"línea\", \"Metro\")\n",
    "        x = x.replace(\".\", \"\")\n",
    "        x = x.replace(\"  \", \" \")\n",
    "       \n",
    "        \n",
    "    elif \"correspondencia\" not in x:\n",
    "        x = \"Ninguna\"\n",
    "    \n",
    "    return x.strip()"
   ]
  },
  {
   "cell_type": "code",
   "execution_count": 79,
   "metadata": {},
   "outputs": [],
   "source": [
    "lista_2 = metro_limpio.stop_desc.apply(clean_stations_2)"
   ]
  },
  {
   "cell_type": "code",
   "execution_count": 88,
   "metadata": {},
   "outputs": [],
   "source": [
    "metro_limpio['borrador_2'] = lista_2"
   ]
  },
  {
   "cell_type": "code",
   "execution_count": 92,
   "metadata": {},
   "outputs": [
    {
     "data": {
      "text/plain": [
       "20           Ninguna\n",
       "21           Ninguna\n",
       "22           Metro 5\n",
       "23           Ninguna\n",
       "24           Ninguna\n",
       "25           Ninguna\n",
       "26    Metros 5 9 y A\n",
       "27           Ninguna\n",
       "28           Ninguna\n",
       "29           Ninguna\n",
       "30           Ninguna\n",
       "31           Ninguna\n",
       "32           Ninguna\n",
       "33           Ninguna\n",
       "34           Ninguna\n",
       "35           Ninguna\n",
       "36           Ninguna\n",
       "37           Metro 5\n",
       "38           Metro 2\n",
       "39           Ninguna\n",
       "Name: stop_desc, dtype: object"
      ]
     },
     "execution_count": 92,
     "metadata": {},
     "output_type": "execute_result"
    }
   ],
   "source": [
    "lista_2[20:40] "
   ]
  },
  {
   "cell_type": "code",
   "execution_count": 94,
   "metadata": {},
   "outputs": [],
   "source": [
    "def obtener_segunda_estacion(x):\n",
    "    \"\"\"De los metros que tienen 2 o más estaciones, quiero obtener la segunda estación exactamente.\"\"\"\n",
    "\n",
    "    x = str(x)\n",
    "    x = x.replace(\"s\", \"\")\n",
    "    \n",
    "    if x != \"Ninguna\":\n",
    "        x = x[:7]\n",
    "        \n",
    "    return x.strip()\n",
    "    \n",
    "    "
   ]
  },
  {
   "cell_type": "code",
   "execution_count": 95,
   "metadata": {},
   "outputs": [
    {
     "data": {
      "text/plain": [
       "'Metros 5'"
      ]
     },
     "execution_count": 95,
     "metadata": {},
     "output_type": "execute_result"
    }
   ],
   "source": [
    "z = 'Metros 5 9 y A'\n",
    "z[:8]"
   ]
  },
  {
   "cell_type": "code",
   "execution_count": 96,
   "metadata": {},
   "outputs": [],
   "source": [
    "metro_limpio['estacion_2'] = metro_limpio['borrador_2'].apply(obtener_segunda_estacion)"
   ]
  },
  {
   "cell_type": "code",
   "execution_count": 99,
   "metadata": {},
   "outputs": [
    {
     "data": {
      "text/plain": [
       "array(['Ninguna', 'Metro B', 'Metro 7', 'Metro 3', 'Metro 4', 'Metro 5',\n",
       "       'Metro 2', 'Metro 6', 'Metro 8', 'Metro 9', 'Metro 1'],\n",
       "      dtype=object)"
      ]
     },
     "execution_count": 99,
     "metadata": {},
     "output_type": "execute_result"
    }
   ],
   "source": [
    "metro_limpio['estacion_2'].unique()"
   ]
  },
  {
   "cell_type": "code",
   "execution_count": 100,
   "metadata": {},
   "outputs": [],
   "source": [
    "#Listo, ahora necesitamos obtener la cuarta estación "
   ]
  },
  {
   "cell_type": "code",
   "execution_count": 101,
   "metadata": {},
   "outputs": [
    {
     "name": "stdout",
     "output_type": "stream",
     "text": [
      "{'Metros 5 9 y A', 'Metro 1', 'Metro 7', 'Metros 1 5 y 9', 'Metro 2 y Metro 8', 'Metro 7 y Metro 9', 'Metro 1 y Metro 9', 'Metro 2', 'Metro 2 y Metro 9', 'Metro 5', 'Metro 6', 'Ninguna', 'Metros 1 9 y A', 'Metros 8', 'Metro 8', 'Metro 3', 'Metro 8 y Metro 9', 'Metro 9', 'Metro 1 y Metro 7', 'Metro 12', 'Metro 4', 'Metro B', 'Metros 1 5 y A'}\n"
     ]
    }
   ],
   "source": [
    "print(set(lista_2))"
   ]
  },
  {
   "cell_type": "code",
   "execution_count": null,
   "metadata": {},
   "outputs": [],
   "source": [
    "#El reto primero es encontrar la tercer estación cuando haya 4 estaciones y ninguna coma en medio.  \n",
    "\"\"\"\n",
    "Estos son los valores que tienen 3 o más estaciones: \n",
    "\n",
    "       'Metros 5 9 y A'\n",
    "       'Metros 1 5 y 9'\n",
    "       'Metro 2 y Metro 8'\n",
    "       'Metro 7 y Metro 9'\n",
    "       \n",
    "       \n",
    "\n",
    "\"\"\""
   ]
  },
  {
   "cell_type": "code",
   "execution_count": 111,
   "metadata": {},
   "outputs": [],
   "source": [
    "def obtener_tercera_estacion(x):\n",
    "    \"\"\"Esta función es para obtener la tercera estación cuando así las haya\"\"\"\n",
    "    x= str(x)\n",
    "    x.replace(\"Metros 8\", \"Metro 8\")\n",
    "    \n",
    "    if \"y\" not in x:\n",
    "        x = \"Ninguna\"\n",
    "    \n",
    "    if x == 'Metros 5 9 y A':\n",
    "        x = \"Metro 9\"\n",
    "    \n",
    "    if x == 'Metros 1 5 y 9':\n",
    "        x = \"Metro 5\"\n",
    "    \n",
    "    if x == \"Metros 1 9 y A\":\n",
    "        x = \"Metro 9\"\n",
    "    \n",
    "    if x == 'Metros 1 5 y A':\n",
    "        x = \"Metro 5\"\n",
    "    \n",
    "    if \"y\" in x:\n",
    "        x = x.split(\"y\")[1]\n",
    "        x = x.strip()\n",
    "        \n",
    "    return x "
   ]
  },
  {
   "cell_type": "code",
   "execution_count": 112,
   "metadata": {},
   "outputs": [],
   "source": []
  },
  {
   "cell_type": "code",
   "execution_count": 116,
   "metadata": {},
   "outputs": [],
   "source": [
    "metro_limpio['tercera_estacion'] = metro_limpio['borrador_2'].apply(obtener_tercera_estacion)"
   ]
  },
  {
   "cell_type": "code",
   "execution_count": 117,
   "metadata": {},
   "outputs": [
    {
     "data": {
      "text/plain": [
       "array(['Ninguna', 'Metro 9', 'Metro 8', 'Metro 5', 'Metro 7'],\n",
       "      dtype=object)"
      ]
     },
     "execution_count": 117,
     "metadata": {},
     "output_type": "execute_result"
    }
   ],
   "source": [
    "metro_limpio['tercera_estacion'].unique()"
   ]
  },
  {
   "cell_type": "code",
   "execution_count": 115,
   "metadata": {},
   "outputs": [],
   "source": [
    "def obtener_cuarta_estacion(x):\n",
    "    \"\"\"Por último, esta función es para obtener la cuarta estación en caso de que las haya\"\"\"\n",
    "    \n",
    "    x= str(x)\n",
    "    x.replace(\"Metros 8\", \"Metro 8\")\n",
    "    lista = ['Metros 5 9 y A', 'Metros 1 5 y 9', \"Metros 1 9 y A\", 'Metros 1 5 y A']\n",
    "    \n",
    "    if x in lista:\n",
    "        x = \"Metro\" + x.split(\"y\")[1]\n",
    "    \n",
    "    elif x not in lista:\n",
    "        x = \"Ninguna\"\n",
    "        \n",
    "    return x.strip() "
   ]
  },
  {
   "cell_type": "code",
   "execution_count": 118,
   "metadata": {},
   "outputs": [],
   "source": [
    "cuarta_estacion = metro_limpio['borrador_2'].apply(obtener_cuarta_estacion)"
   ]
  },
  {
   "cell_type": "code",
   "execution_count": 119,
   "metadata": {},
   "outputs": [],
   "source": [
    "metro_limpio['cuarta_estacion'] = cuarta_estacion"
   ]
  },
  {
   "cell_type": "code",
   "execution_count": 120,
   "metadata": {},
   "outputs": [
    {
     "data": {
      "text/plain": [
       "array(['Ninguna', 'Metro A', 'Metro 9'], dtype=object)"
      ]
     },
     "execution_count": 120,
     "metadata": {},
     "output_type": "execute_result"
    }
   ],
   "source": [
    "metro_limpio['cuarta_estacion'].unique()"
   ]
  },
  {
   "cell_type": "code",
   "execution_count": 127,
   "metadata": {},
   "outputs": [
    {
     "data": {
      "text/html": [
       "<div>\n",
       "<style scoped>\n",
       "    .dataframe tbody tr th:only-of-type {\n",
       "        vertical-align: middle;\n",
       "    }\n",
       "\n",
       "    .dataframe tbody tr th {\n",
       "        vertical-align: top;\n",
       "    }\n",
       "\n",
       "    .dataframe thead th {\n",
       "        text-align: right;\n",
       "    }\n",
       "</style>\n",
       "<table border=\"1\" class=\"dataframe\">\n",
       "  <thead>\n",
       "    <tr style=\"text-align: right;\">\n",
       "      <th></th>\n",
       "      <th>estacion_principal</th>\n",
       "      <th>estacion_2</th>\n",
       "      <th>tercera_estacion</th>\n",
       "    </tr>\n",
       "  </thead>\n",
       "  <tbody>\n",
       "    <tr>\n",
       "      <th>26</th>\n",
       "      <td>Metro 1</td>\n",
       "      <td>Metro 5</td>\n",
       "      <td>Metro 9</td>\n",
       "    </tr>\n",
       "    <tr>\n",
       "      <th>44</th>\n",
       "      <td>Metro 2</td>\n",
       "      <td>Metro 8</td>\n",
       "      <td>Metro 9</td>\n",
       "    </tr>\n",
       "    <tr>\n",
       "      <th>64</th>\n",
       "      <td>Metro 5</td>\n",
       "      <td>Metro 1</td>\n",
       "      <td>Metro 9</td>\n",
       "    </tr>\n",
       "    <tr>\n",
       "      <th>66</th>\n",
       "      <td>Metro 9</td>\n",
       "      <td>Metro 2</td>\n",
       "      <td>Metro 8</td>\n",
       "    </tr>\n",
       "    <tr>\n",
       "      <th>81</th>\n",
       "      <td>Metro A</td>\n",
       "      <td>Metro 1</td>\n",
       "      <td>Metro 5</td>\n",
       "    </tr>\n",
       "    <tr>\n",
       "      <th>92</th>\n",
       "      <td>Metro 1</td>\n",
       "      <td>Metro 7</td>\n",
       "      <td>Metro 9</td>\n",
       "    </tr>\n",
       "    <tr>\n",
       "      <th>107</th>\n",
       "      <td>Metro 8</td>\n",
       "      <td>Metro 2</td>\n",
       "      <td>Metro 9</td>\n",
       "    </tr>\n",
       "    <tr>\n",
       "      <th>115</th>\n",
       "      <td>Metro 9</td>\n",
       "      <td>Metro 1</td>\n",
       "      <td>Metro 5</td>\n",
       "    </tr>\n",
       "    <tr>\n",
       "      <th>192</th>\n",
       "      <td>Metro 7</td>\n",
       "      <td>Metro 1</td>\n",
       "      <td>Metro 9</td>\n",
       "    </tr>\n",
       "    <tr>\n",
       "      <th>193</th>\n",
       "      <td>Metro 9</td>\n",
       "      <td>Metro 1</td>\n",
       "      <td>Metro 7</td>\n",
       "    </tr>\n",
       "  </tbody>\n",
       "</table>\n",
       "</div>"
      ],
      "text/plain": [
       "    estacion_principal estacion_2 tercera_estacion\n",
       "26             Metro 1    Metro 5          Metro 9\n",
       "44             Metro 2    Metro 8          Metro 9\n",
       "64             Metro 5    Metro 1          Metro 9\n",
       "66             Metro 9    Metro 2          Metro 8\n",
       "81             Metro A    Metro 1          Metro 5\n",
       "92             Metro 1    Metro 7          Metro 9\n",
       "107            Metro 8    Metro 2          Metro 9\n",
       "115            Metro 9    Metro 1          Metro 5\n",
       "192            Metro 7    Metro 1          Metro 9\n",
       "193            Metro 9    Metro 1          Metro 7"
      ]
     },
     "execution_count": 127,
     "metadata": {},
     "output_type": "execute_result"
    }
   ],
   "source": [
    "metro_limpio[['estacion_principal', 'estacion_2', 'tercera_estacion']][metro_limpio.tercera_estacion != \"Ninguna\"]"
   ]
  },
  {
   "cell_type": "code",
   "execution_count": 128,
   "metadata": {},
   "outputs": [
    {
     "data": {
      "text/html": [
       "<div>\n",
       "<style scoped>\n",
       "    .dataframe tbody tr th:only-of-type {\n",
       "        vertical-align: middle;\n",
       "    }\n",
       "\n",
       "    .dataframe tbody tr th {\n",
       "        vertical-align: top;\n",
       "    }\n",
       "\n",
       "    .dataframe thead th {\n",
       "        text-align: right;\n",
       "    }\n",
       "</style>\n",
       "<table border=\"1\" class=\"dataframe\">\n",
       "  <thead>\n",
       "    <tr style=\"text-align: right;\">\n",
       "      <th></th>\n",
       "      <th>stop_id</th>\n",
       "      <th>stop_name</th>\n",
       "      <th>stop_desc</th>\n",
       "      <th>stop_lat</th>\n",
       "      <th>stop_lon</th>\n",
       "      <th>trip_heads</th>\n",
       "      <th>Geopoint</th>\n",
       "      <th>primera_estacion</th>\n",
       "      <th>borrador_2</th>\n",
       "      <th>segunda_estacion</th>\n",
       "      <th>tercera_estacion</th>\n",
       "      <th>cuarta_estacion</th>\n",
       "    </tr>\n",
       "  </thead>\n",
       "  <tbody>\n",
       "    <tr>\n",
       "      <th>0</th>\n",
       "      <td>14124.0</td>\n",
       "      <td>Colegio Militar</td>\n",
       "      <td>Metro 2</td>\n",
       "      <td>19.448646</td>\n",
       "      <td>-99.171224</td>\n",
       "      <td>Cuatro Caminos - Tasqueña</td>\n",
       "      <td>19.44864628,-99.17122364</td>\n",
       "      <td>Metro 2</td>\n",
       "      <td>Ninguna</td>\n",
       "      <td>Ninguna</td>\n",
       "      <td>Ninguna</td>\n",
       "      <td>Ninguna</td>\n",
       "    </tr>\n",
       "    <tr>\n",
       "      <th>1</th>\n",
       "      <td>14119.0</td>\n",
       "      <td>Chapultepec</td>\n",
       "      <td>Metro 1</td>\n",
       "      <td>19.420256</td>\n",
       "      <td>-99.176588</td>\n",
       "      <td>Observatorio - Pantitlán</td>\n",
       "      <td>19.42025648,-99.17658806</td>\n",
       "      <td>Metro 1</td>\n",
       "      <td>Ninguna</td>\n",
       "      <td>Ninguna</td>\n",
       "      <td>Ninguna</td>\n",
       "      <td>Ninguna</td>\n",
       "    </tr>\n",
       "    <tr>\n",
       "      <th>2</th>\n",
       "      <td>14095.0</td>\n",
       "      <td>Apatlaco</td>\n",
       "      <td>Metro 8</td>\n",
       "      <td>19.378298</td>\n",
       "      <td>-99.109340</td>\n",
       "      <td>Garibaldi - Constitución de 1917</td>\n",
       "      <td>19.378298,-99.10934</td>\n",
       "      <td>Metro 8</td>\n",
       "      <td>Ninguna</td>\n",
       "      <td>Ninguna</td>\n",
       "      <td>Ninguna</td>\n",
       "      <td>Ninguna</td>\n",
       "    </tr>\n",
       "    <tr>\n",
       "      <th>3</th>\n",
       "      <td>14234.0</td>\n",
       "      <td>Calle 11</td>\n",
       "      <td>Metro 12</td>\n",
       "      <td>19.320256</td>\n",
       "      <td>-99.084867</td>\n",
       "      <td>Tláhuac - Mixcoac</td>\n",
       "      <td>19.32025578,-99.08486724</td>\n",
       "      <td>Metro 12</td>\n",
       "      <td>Ninguna</td>\n",
       "      <td>Ninguna</td>\n",
       "      <td>Ninguna</td>\n",
       "      <td>Ninguna</td>\n",
       "    </tr>\n",
       "    <tr>\n",
       "      <th>4</th>\n",
       "      <td>14061.0</td>\n",
       "      <td>Oceanía</td>\n",
       "      <td>Metro Línea 5 correspondencia con línea B.</td>\n",
       "      <td>19.445429</td>\n",
       "      <td>-99.086906</td>\n",
       "      <td>Pantitlán - Politécnico</td>\n",
       "      <td>19.44542916,-99.08690572</td>\n",
       "      <td>Metro 5</td>\n",
       "      <td>Metro B</td>\n",
       "      <td>Metro B</td>\n",
       "      <td>Ninguna</td>\n",
       "      <td>Ninguna</td>\n",
       "    </tr>\n",
       "  </tbody>\n",
       "</table>\n",
       "</div>"
      ],
      "text/plain": [
       "   stop_id        stop_name                                   stop_desc  \\\n",
       "0  14124.0  Colegio Militar                                     Metro 2   \n",
       "1  14119.0      Chapultepec                                     Metro 1   \n",
       "2  14095.0         Apatlaco                                     Metro 8   \n",
       "3  14234.0         Calle 11                                    Metro 12   \n",
       "4  14061.0          Oceanía  Metro Línea 5 correspondencia con línea B.   \n",
       "\n",
       "    stop_lat   stop_lon                        trip_heads  \\\n",
       "0  19.448646 -99.171224         Cuatro Caminos - Tasqueña   \n",
       "1  19.420256 -99.176588          Observatorio - Pantitlán   \n",
       "2  19.378298 -99.109340  Garibaldi - Constitución de 1917   \n",
       "3  19.320256 -99.084867                 Tláhuac - Mixcoac   \n",
       "4  19.445429 -99.086906           Pantitlán - Politécnico   \n",
       "\n",
       "                   Geopoint primera_estacion borrador_2 segunda_estacion  \\\n",
       "0  19.44864628,-99.17122364          Metro 2    Ninguna          Ninguna   \n",
       "1  19.42025648,-99.17658806          Metro 1    Ninguna          Ninguna   \n",
       "2       19.378298,-99.10934          Metro 8    Ninguna          Ninguna   \n",
       "3  19.32025578,-99.08486724         Metro 12    Ninguna          Ninguna   \n",
       "4  19.44542916,-99.08690572          Metro 5    Metro B          Metro B   \n",
       "\n",
       "  tercera_estacion cuarta_estacion  \n",
       "0          Ninguna         Ninguna  \n",
       "1          Ninguna         Ninguna  \n",
       "2          Ninguna         Ninguna  \n",
       "3          Ninguna         Ninguna  \n",
       "4          Ninguna         Ninguna  "
      ]
     },
     "execution_count": 128,
     "metadata": {},
     "output_type": "execute_result"
    }
   ],
   "source": [
    "metro_limpio = metro_limpio.rename(columns={'estacion_principal': 'primera_estacion', 'estacion_2': 'segunda_estacion'})\n",
    "metro_limpio.head()"
   ]
  },
  {
   "cell_type": "code",
   "execution_count": 130,
   "metadata": {},
   "outputs": [],
   "source": [
    "metro_limpio = metro_limpio.drop(columns=['borrador_2'])"
   ]
  },
  {
   "cell_type": "code",
   "execution_count": 131,
   "metadata": {},
   "outputs": [],
   "source": [
    "metro_limpio = metro_limpio.drop(columns=['stop_desc'])"
   ]
  },
  {
   "cell_type": "code",
   "execution_count": 133,
   "metadata": {},
   "outputs": [
    {
     "data": {
      "text/html": [
       "<div>\n",
       "<style scoped>\n",
       "    .dataframe tbody tr th:only-of-type {\n",
       "        vertical-align: middle;\n",
       "    }\n",
       "\n",
       "    .dataframe tbody tr th {\n",
       "        vertical-align: top;\n",
       "    }\n",
       "\n",
       "    .dataframe thead th {\n",
       "        text-align: right;\n",
       "    }\n",
       "</style>\n",
       "<table border=\"1\" class=\"dataframe\">\n",
       "  <thead>\n",
       "    <tr style=\"text-align: right;\">\n",
       "      <th></th>\n",
       "      <th>stop_id</th>\n",
       "      <th>stop_name</th>\n",
       "      <th>stop_lat</th>\n",
       "      <th>stop_lon</th>\n",
       "      <th>trip_heads</th>\n",
       "      <th>Geopoint</th>\n",
       "      <th>primera_estacion</th>\n",
       "      <th>segunda_estacion</th>\n",
       "      <th>tercera_estacion</th>\n",
       "      <th>cuarta_estacion</th>\n",
       "    </tr>\n",
       "  </thead>\n",
       "  <tbody>\n",
       "    <tr>\n",
       "      <th>0</th>\n",
       "      <td>14124.0</td>\n",
       "      <td>Colegio Militar</td>\n",
       "      <td>19.448646</td>\n",
       "      <td>-99.171224</td>\n",
       "      <td>Cuatro Caminos - Tasqueña</td>\n",
       "      <td>19.44864628,-99.17122364</td>\n",
       "      <td>Metro 2</td>\n",
       "      <td>Ninguna</td>\n",
       "      <td>Ninguna</td>\n",
       "      <td>Ninguna</td>\n",
       "    </tr>\n",
       "    <tr>\n",
       "      <th>1</th>\n",
       "      <td>14119.0</td>\n",
       "      <td>Chapultepec</td>\n",
       "      <td>19.420256</td>\n",
       "      <td>-99.176588</td>\n",
       "      <td>Observatorio - Pantitlán</td>\n",
       "      <td>19.42025648,-99.17658806</td>\n",
       "      <td>Metro 1</td>\n",
       "      <td>Ninguna</td>\n",
       "      <td>Ninguna</td>\n",
       "      <td>Ninguna</td>\n",
       "    </tr>\n",
       "  </tbody>\n",
       "</table>\n",
       "</div>"
      ],
      "text/plain": [
       "   stop_id        stop_name   stop_lat   stop_lon                 trip_heads  \\\n",
       "0  14124.0  Colegio Militar  19.448646 -99.171224  Cuatro Caminos - Tasqueña   \n",
       "1  14119.0      Chapultepec  19.420256 -99.176588   Observatorio - Pantitlán   \n",
       "\n",
       "                   Geopoint primera_estacion segunda_estacion  \\\n",
       "0  19.44864628,-99.17122364          Metro 2          Ninguna   \n",
       "1  19.42025648,-99.17658806          Metro 1          Ninguna   \n",
       "\n",
       "  tercera_estacion cuarta_estacion  \n",
       "0          Ninguna         Ninguna  \n",
       "1          Ninguna         Ninguna  "
      ]
     },
     "execution_count": 133,
     "metadata": {},
     "output_type": "execute_result"
    }
   ],
   "source": [
    "metro_limpio.head(2)"
   ]
  },
  {
   "cell_type": "code",
   "execution_count": null,
   "metadata": {},
   "outputs": [],
   "source": [
    "#La primera estación es la que sale en trip_heads, por lo que podemos quitar eso. "
   ]
  }
 ],
 "metadata": {
  "kernelspec": {
   "display_name": "Python 3",
   "language": "python",
   "name": "python3"
  },
  "language_info": {
   "codemirror_mode": {
    "name": "ipython",
    "version": 3
   },
   "file_extension": ".py",
   "mimetype": "text/x-python",
   "name": "python",
   "nbconvert_exporter": "python",
   "pygments_lexer": "ipython3",
   "version": "3.7.5"
  }
 },
 "nbformat": 4,
 "nbformat_minor": 2
}
