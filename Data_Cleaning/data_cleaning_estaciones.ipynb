{
 "cells": [
  {
   "cell_type": "markdown",
   "metadata": {},
   "source": [
    "# El propósito de este Notebook fue limpiar la base de datos donde vienen las estaciones del metro para poder usarla luego. "
   ]
  },
  {
   "cell_type": "markdown",
   "metadata": {},
   "source": [
    "La base de datos ya estaba bastante limpia. Básicamente limpié los nulos y luego me tomó un poco de tiempo separar todas las líneas con las que hace correspondencia una sola estación. El formato de la base limpia se ve hasta el final. Esta base se usará más adelante. "
   ]
  },
  {
   "cell_type": "code",
   "execution_count": null,
   "metadata": {},
   "outputs": [],
   "source": [
    "import pymongo\n",
    "import pandas as pd\n",
    "import numpy as np\n",
    "import matplotlib.pyplot as plt\n",
    "%matplotlib inline\n",
    "import warnings\n",
    "warnings.simplefilter('ignore')\n"
   ]
  },
  {
   "cell_type": "code",
   "execution_count": 2,
   "metadata": {},
   "outputs": [],
   "source": [
    "metro = pd.read_csv('estaciones-metro.csv', sep=\";\")"
   ]
  },
  {
   "cell_type": "code",
   "execution_count": 3,
   "metadata": {},
   "outputs": [
    {
     "data": {
      "text/html": [
       "<div>\n",
       "<style scoped>\n",
       "    .dataframe tbody tr th:only-of-type {\n",
       "        vertical-align: middle;\n",
       "    }\n",
       "\n",
       "    .dataframe tbody tr th {\n",
       "        vertical-align: top;\n",
       "    }\n",
       "\n",
       "    .dataframe thead th {\n",
       "        text-align: right;\n",
       "    }\n",
       "</style>\n",
       "<table border=\"1\" class=\"dataframe\">\n",
       "  <thead>\n",
       "    <tr style=\"text-align: right;\">\n",
       "      <th></th>\n",
       "      <th>Geometry</th>\n",
       "      <th>stop_id</th>\n",
       "      <th>stop_code</th>\n",
       "      <th>stop_name</th>\n",
       "      <th>stop_desc</th>\n",
       "      <th>stop_lat</th>\n",
       "      <th>stop_lon</th>\n",
       "      <th>trip_heads</th>\n",
       "      <th>agency_id</th>\n",
       "      <th>Geopoint</th>\n",
       "    </tr>\n",
       "  </thead>\n",
       "  <tbody>\n",
       "    <tr>\n",
       "      <th>0</th>\n",
       "      <td>{\"type\": \"Point\", \"coordinates\": [-99.17122364...</td>\n",
       "      <td>14124.0</td>\n",
       "      <td>NaN</td>\n",
       "      <td>Colegio Militar</td>\n",
       "      <td>Metro 2</td>\n",
       "      <td>19.448646</td>\n",
       "      <td>-99.171224</td>\n",
       "      <td>Cuatro Caminos - Tasqueña</td>\n",
       "      <td>METRO</td>\n",
       "      <td>19.44864628,-99.17122364</td>\n",
       "    </tr>\n",
       "    <tr>\n",
       "      <th>1</th>\n",
       "      <td>{\"type\": \"Point\", \"coordinates\": [-99.17658806...</td>\n",
       "      <td>14119.0</td>\n",
       "      <td>NaN</td>\n",
       "      <td>Chapultepec</td>\n",
       "      <td>Metro 1</td>\n",
       "      <td>19.420256</td>\n",
       "      <td>-99.176588</td>\n",
       "      <td>Observatorio - Pantitlán</td>\n",
       "      <td>METRO</td>\n",
       "      <td>19.42025648,-99.17658806</td>\n",
       "    </tr>\n",
       "    <tr>\n",
       "      <th>2</th>\n",
       "      <td>{\"type\": \"Point\", \"coordinates\": [-99.10934, 1...</td>\n",
       "      <td>14095.0</td>\n",
       "      <td>NaN</td>\n",
       "      <td>Apatlaco</td>\n",
       "      <td>Metro 8</td>\n",
       "      <td>19.378298</td>\n",
       "      <td>-99.109340</td>\n",
       "      <td>Garibaldi - Constitución de 1917</td>\n",
       "      <td>METRO</td>\n",
       "      <td>19.378298,-99.10934</td>\n",
       "    </tr>\n",
       "    <tr>\n",
       "      <th>3</th>\n",
       "      <td>{\"type\": \"Point\", \"coordinates\": [-99.08486724...</td>\n",
       "      <td>14234.0</td>\n",
       "      <td>NaN</td>\n",
       "      <td>Calle 11</td>\n",
       "      <td>Metro 12</td>\n",
       "      <td>19.320256</td>\n",
       "      <td>-99.084867</td>\n",
       "      <td>Tláhuac - Mixcoac</td>\n",
       "      <td>METRO</td>\n",
       "      <td>19.32025578,-99.08486724</td>\n",
       "    </tr>\n",
       "    <tr>\n",
       "      <th>4</th>\n",
       "      <td>{\"type\": \"Point\", \"coordinates\": [-99.08690572...</td>\n",
       "      <td>14061.0</td>\n",
       "      <td>NaN</td>\n",
       "      <td>Oceanía</td>\n",
       "      <td>Metro Línea 5 correspondencia con línea B.</td>\n",
       "      <td>19.445429</td>\n",
       "      <td>-99.086906</td>\n",
       "      <td>Pantitlán - Politécnico</td>\n",
       "      <td>METRO</td>\n",
       "      <td>19.44542916,-99.08690572</td>\n",
       "    </tr>\n",
       "  </tbody>\n",
       "</table>\n",
       "</div>"
      ],
      "text/plain": [
       "                                            Geometry  stop_id  stop_code  \\\n",
       "0  {\"type\": \"Point\", \"coordinates\": [-99.17122364...  14124.0        NaN   \n",
       "1  {\"type\": \"Point\", \"coordinates\": [-99.17658806...  14119.0        NaN   \n",
       "2  {\"type\": \"Point\", \"coordinates\": [-99.10934, 1...  14095.0        NaN   \n",
       "3  {\"type\": \"Point\", \"coordinates\": [-99.08486724...  14234.0        NaN   \n",
       "4  {\"type\": \"Point\", \"coordinates\": [-99.08690572...  14061.0        NaN   \n",
       "\n",
       "         stop_name                                   stop_desc   stop_lat  \\\n",
       "0  Colegio Militar                                     Metro 2  19.448646   \n",
       "1      Chapultepec                                     Metro 1  19.420256   \n",
       "2         Apatlaco                                     Metro 8  19.378298   \n",
       "3         Calle 11                                    Metro 12  19.320256   \n",
       "4          Oceanía  Metro Línea 5 correspondencia con línea B.  19.445429   \n",
       "\n",
       "    stop_lon                        trip_heads agency_id  \\\n",
       "0 -99.171224         Cuatro Caminos - Tasqueña     METRO   \n",
       "1 -99.176588          Observatorio - Pantitlán     METRO   \n",
       "2 -99.109340  Garibaldi - Constitución de 1917     METRO   \n",
       "3 -99.084867                 Tláhuac - Mixcoac     METRO   \n",
       "4 -99.086906           Pantitlán - Politécnico     METRO   \n",
       "\n",
       "                   Geopoint  \n",
       "0  19.44864628,-99.17122364  \n",
       "1  19.42025648,-99.17658806  \n",
       "2       19.378298,-99.10934  \n",
       "3  19.32025578,-99.08486724  \n",
       "4  19.44542916,-99.08690572  "
      ]
     },
     "execution_count": 3,
     "metadata": {},
     "output_type": "execute_result"
    }
   ],
   "source": [
    "metro.head()"
   ]
  },
  {
   "cell_type": "code",
   "execution_count": 4,
   "metadata": {},
   "outputs": [],
   "source": [
    "metro = metro.drop(columns=['stop_code']) #son puros vacíos"
   ]
  },
  {
   "cell_type": "code",
   "execution_count": 5,
   "metadata": {},
   "outputs": [],
   "source": [
    "metro = metro.drop(columns=['agency_id']) #todos solo dicen 'METRO'; no aporta información"
   ]
  },
  {
   "cell_type": "code",
   "execution_count": 6,
   "metadata": {},
   "outputs": [],
   "source": [
    "def clean_estaciones(x):\n",
    "    x = str(x)\n",
    "    if \"correspondencia\" in x:\n",
    "        x = x[:14]\n",
    "        return x\n",
    "    return x\n",
    "    "
   ]
  },
  {
   "cell_type": "code",
   "execution_count": 7,
   "metadata": {},
   "outputs": [],
   "source": [
    "metro = metro.drop(columns=['Geometry'])"
   ]
  },
  {
   "cell_type": "code",
   "execution_count": 8,
   "metadata": {},
   "outputs": [],
   "source": [
    "metro_limpio = metro.copy()"
   ]
  },
  {
   "cell_type": "code",
   "execution_count": 9,
   "metadata": {},
   "outputs": [],
   "source": [
    "def clean_stations_1(x):\n",
    "    \"\"\" Esta función me ayuda a obtener la línea principal de la que es parte la estación\"\"\"\n",
    "    x = str(x)\n",
    "    \n",
    "    if \"correspondencia\" in x:\n",
    "        x = x.split(\"correspondencia con\")[0]\n",
    "        x = x.replace(\"Línea\", \"\")\n",
    "        x = x.replace(\"  \", \" \")\n",
    "        return x.strip()\n",
    "        \n",
    "    elif \"correspondencia\" not in x:\n",
    "        x = x.replace(\"Línea\", \"\")\n",
    "        x = x.replace(\"  \", \" \")\n",
    "        return x.strip()"
   ]
  },
  {
   "cell_type": "code",
   "execution_count": 10,
   "metadata": {},
   "outputs": [],
   "source": [
    "lista_1 = metro_limpio.stop_desc.apply(clean_stations_1)"
   ]
  },
  {
   "cell_type": "code",
   "execution_count": 11,
   "metadata": {},
   "outputs": [],
   "source": [
    "metro_limpio['estacion_principal'] = lista_1"
   ]
  },
  {
   "cell_type": "code",
   "execution_count": 12,
   "metadata": {},
   "outputs": [],
   "source": [
    "def clean_stations_2(x):\n",
    "    \"\"\"Esta función me ayuda a obtener las líneas extras con las que se coordina esa estación.\"\"\"\n",
    "  \n",
    "    x = str(x)\n",
    "    \n",
    "    if \"correspondencia\" in x:\n",
    "        x = x.split(\"correspondencia con\")[1]\n",
    "        x = x.replace(\"Línea\", \"Metro\")\n",
    "        x = x.replace(\"línea\", \"Metro\")\n",
    "        x = x.replace(\".\", \"\")\n",
    "        x = x.replace(\"  \", \" \")\n",
    "       \n",
    "        \n",
    "    elif \"correspondencia\" not in x:\n",
    "        x = \"Ninguna\"\n",
    "    \n",
    "    return x.strip()"
   ]
  },
  {
   "cell_type": "code",
   "execution_count": 13,
   "metadata": {},
   "outputs": [],
   "source": [
    "lista_2 = metro_limpio.stop_desc.apply(clean_stations_2)"
   ]
  },
  {
   "cell_type": "code",
   "execution_count": 14,
   "metadata": {},
   "outputs": [],
   "source": [
    "metro_limpio['borrador_2'] = lista_2"
   ]
  },
  {
   "cell_type": "code",
   "execution_count": 15,
   "metadata": {},
   "outputs": [],
   "source": [
    "def obtener_segunda_estacion(x):\n",
    "    \"\"\"De los metros que tienen 2 o más estaciones, quiero obtener la segunda estación exactamente.\"\"\"\n",
    "\n",
    "    x = str(x)\n",
    "    x = x.replace(\"s\", \"\")\n",
    "    \n",
    "    if x != \"Ninguna\":\n",
    "        x = x[:7]\n",
    "        \n",
    "    return x.strip()\n",
    "    \n",
    "    "
   ]
  },
  {
   "cell_type": "code",
   "execution_count": 16,
   "metadata": {},
   "outputs": [],
   "source": [
    "metro_limpio['estacion_2'] = metro_limpio['borrador_2'].apply(obtener_segunda_estacion)"
   ]
  },
  {
   "cell_type": "code",
   "execution_count": 17,
   "metadata": {},
   "outputs": [],
   "source": [
    "def obtener_tercera_estacion(x):\n",
    "    \"\"\"Esta función es para obtener la tercera estación cuando así las haya\"\"\"\n",
    "    x= str(x)\n",
    "    x.replace(\"Metros 8\", \"Metro 8\")\n",
    "    \n",
    "    if \"y\" not in x:\n",
    "        x = \"Ninguna\"\n",
    "    \n",
    "    if x == 'Metros 5 9 y A':\n",
    "        x = \"Metro 9\"\n",
    "    \n",
    "    if x == 'Metros 1 5 y 9':\n",
    "        x = \"Metro 5\"\n",
    "    \n",
    "    if x == \"Metros 1 9 y A\":\n",
    "        x = \"Metro 9\"\n",
    "    \n",
    "    if x == 'Metros 1 5 y A':\n",
    "        x = \"Metro 5\"\n",
    "    \n",
    "    if \"y\" in x:\n",
    "        x = x.split(\"y\")[1]\n",
    "        x = x.strip()\n",
    "        \n",
    "    return x "
   ]
  },
  {
   "cell_type": "code",
   "execution_count": 18,
   "metadata": {},
   "outputs": [],
   "source": [
    "metro_limpio['tercera_estacion'] = metro_limpio['borrador_2'].apply(obtener_tercera_estacion)"
   ]
  },
  {
   "cell_type": "code",
   "execution_count": 20,
   "metadata": {},
   "outputs": [],
   "source": [
    "def obtener_cuarta_estacion(x):\n",
    "    \"\"\"Por último, esta función es para obtener la cuarta estación en caso de que las haya\"\"\"\n",
    "    \n",
    "    x= str(x)\n",
    "    x.replace(\"Metros 8\", \"Metro 8\")\n",
    "    lista = ['Metros 5 9 y A', 'Metros 1 5 y 9', \"Metros 1 9 y A\", 'Metros 1 5 y A']\n",
    "    \n",
    "    if x in lista:\n",
    "        x = \"Metro\" + x.split(\"y\")[1]\n",
    "    \n",
    "    elif x not in lista:\n",
    "        x = \"Ninguna\"\n",
    "        \n",
    "    return x.strip() "
   ]
  },
  {
   "cell_type": "code",
   "execution_count": 21,
   "metadata": {},
   "outputs": [],
   "source": [
    "cuarta_estacion = metro_limpio['borrador_2'].apply(obtener_cuarta_estacion)"
   ]
  },
  {
   "cell_type": "code",
   "execution_count": 22,
   "metadata": {},
   "outputs": [],
   "source": [
    "metro_limpio['cuarta_estacion'] = cuarta_estacion"
   ]
  },
  {
   "cell_type": "code",
   "execution_count": 24,
   "metadata": {},
   "outputs": [],
   "source": [
    "metro_limpio = metro_limpio.rename(columns={'estacion_principal': 'primera_estacion', 'estacion_2': 'segunda_estacion'})"
   ]
  },
  {
   "cell_type": "code",
   "execution_count": 25,
   "metadata": {},
   "outputs": [],
   "source": [
    "metro_limpio = metro_limpio.drop(columns=['borrador_2'])"
   ]
  },
  {
   "cell_type": "code",
   "execution_count": 26,
   "metadata": {},
   "outputs": [],
   "source": [
    "metro_limpio = metro_limpio.drop(columns=['stop_desc'])"
   ]
  },
  {
   "cell_type": "code",
   "execution_count": null,
   "metadata": {},
   "outputs": [],
   "source": [
    "#metro_limpio[['primera_estacion', 'segunda_estacion', 'tercera_estacion', 'cuarta_estacion']][metro_limpio.cuarta_estacion != \"Ninguna\"]\n",
    "#con eso se ve que quedaron bien las estaciones"
   ]
  },
  {
   "cell_type": "code",
   "execution_count": 30,
   "metadata": {},
   "outputs": [],
   "source": [
    "metro_limpio = metro_limpio.drop(columns=['trip_heads', 'stop_id', 'Geopoint'])"
   ]
  },
  {
   "cell_type": "code",
   "execution_count": 31,
   "metadata": {},
   "outputs": [],
   "source": [
    "metro_limpio = metro_limpio.rename(columns={'stop_name': 'nombre_estacion'})"
   ]
  },
  {
   "cell_type": "code",
   "execution_count": 32,
   "metadata": {},
   "outputs": [
    {
     "data": {
      "text/html": [
       "<div>\n",
       "<style scoped>\n",
       "    .dataframe tbody tr th:only-of-type {\n",
       "        vertical-align: middle;\n",
       "    }\n",
       "\n",
       "    .dataframe tbody tr th {\n",
       "        vertical-align: top;\n",
       "    }\n",
       "\n",
       "    .dataframe thead th {\n",
       "        text-align: right;\n",
       "    }\n",
       "</style>\n",
       "<table border=\"1\" class=\"dataframe\">\n",
       "  <thead>\n",
       "    <tr style=\"text-align: right;\">\n",
       "      <th></th>\n",
       "      <th>nombre_estacion</th>\n",
       "      <th>stop_lat</th>\n",
       "      <th>stop_lon</th>\n",
       "      <th>primera_estacion</th>\n",
       "      <th>segunda_estacion</th>\n",
       "      <th>tercera_estacion</th>\n",
       "      <th>cuarta_estacion</th>\n",
       "    </tr>\n",
       "  </thead>\n",
       "  <tbody>\n",
       "    <tr>\n",
       "      <th>0</th>\n",
       "      <td>Colegio Militar</td>\n",
       "      <td>19.448646</td>\n",
       "      <td>-99.171224</td>\n",
       "      <td>Metro 2</td>\n",
       "      <td>Ninguna</td>\n",
       "      <td>Ninguna</td>\n",
       "      <td>Ninguna</td>\n",
       "    </tr>\n",
       "    <tr>\n",
       "      <th>1</th>\n",
       "      <td>Chapultepec</td>\n",
       "      <td>19.420256</td>\n",
       "      <td>-99.176588</td>\n",
       "      <td>Metro 1</td>\n",
       "      <td>Ninguna</td>\n",
       "      <td>Ninguna</td>\n",
       "      <td>Ninguna</td>\n",
       "    </tr>\n",
       "    <tr>\n",
       "      <th>2</th>\n",
       "      <td>Apatlaco</td>\n",
       "      <td>19.378298</td>\n",
       "      <td>-99.109340</td>\n",
       "      <td>Metro 8</td>\n",
       "      <td>Ninguna</td>\n",
       "      <td>Ninguna</td>\n",
       "      <td>Ninguna</td>\n",
       "    </tr>\n",
       "    <tr>\n",
       "      <th>3</th>\n",
       "      <td>Calle 11</td>\n",
       "      <td>19.320256</td>\n",
       "      <td>-99.084867</td>\n",
       "      <td>Metro 12</td>\n",
       "      <td>Ninguna</td>\n",
       "      <td>Ninguna</td>\n",
       "      <td>Ninguna</td>\n",
       "    </tr>\n",
       "    <tr>\n",
       "      <th>4</th>\n",
       "      <td>Oceanía</td>\n",
       "      <td>19.445429</td>\n",
       "      <td>-99.086906</td>\n",
       "      <td>Metro 5</td>\n",
       "      <td>Metro B</td>\n",
       "      <td>Ninguna</td>\n",
       "      <td>Ninguna</td>\n",
       "    </tr>\n",
       "  </tbody>\n",
       "</table>\n",
       "</div>"
      ],
      "text/plain": [
       "   nombre_estacion   stop_lat   stop_lon primera_estacion segunda_estacion  \\\n",
       "0  Colegio Militar  19.448646 -99.171224          Metro 2          Ninguna   \n",
       "1      Chapultepec  19.420256 -99.176588          Metro 1          Ninguna   \n",
       "2         Apatlaco  19.378298 -99.109340          Metro 8          Ninguna   \n",
       "3         Calle 11  19.320256 -99.084867         Metro 12          Ninguna   \n",
       "4          Oceanía  19.445429 -99.086906          Metro 5          Metro B   \n",
       "\n",
       "  tercera_estacion cuarta_estacion  \n",
       "0          Ninguna         Ninguna  \n",
       "1          Ninguna         Ninguna  \n",
       "2          Ninguna         Ninguna  \n",
       "3          Ninguna         Ninguna  \n",
       "4          Ninguna         Ninguna  "
      ]
     },
     "execution_count": 32,
     "metadata": {},
     "output_type": "execute_result"
    }
   ],
   "source": [
    "metro_limpio.head()"
   ]
  },
  {
   "cell_type": "code",
   "execution_count": 34,
   "metadata": {},
   "outputs": [],
   "source": [
    "estaciones_limpias = metro_limpio.to_csv(\"estaciones_limpias_v1.csv\")"
   ]
  },
  {
   "cell_type": "code",
   "execution_count": null,
   "metadata": {},
   "outputs": [],
   "source": []
  }
 ],
 "metadata": {
  "kernelspec": {
   "display_name": "Python 3",
   "language": "python",
   "name": "python3"
  },
  "language_info": {
   "codemirror_mode": {
    "name": "ipython",
    "version": 3
   },
   "file_extension": ".py",
   "mimetype": "text/x-python",
   "name": "python",
   "nbconvert_exporter": "python",
   "pygments_lexer": "ipython3",
   "version": "3.7.5"
  }
 },
 "nbformat": 4,
 "nbformat_minor": 2
}
